{
 "cells": [
  {
   "cell_type": "markdown",
   "id": "de668443-93d8-44b9-998c-c71b94bbdc65",
   "metadata": {},
   "source": [
    "# How to solve multivariate polynomial systems of equations in Oscar\n",
    "\n",
    "- Author: Christian Eder\n",
    "- Version: OSCAR version 1.4.0 or newer.\n"
   ]
  },
  {
   "cell_type": "markdown",
   "id": "d8fefd65-438a-49c3-86ea-d942a78e19f3",
   "metadata": {},
   "source": [
    "## Introduction\n",
    "\n",
    "This tutorial provides an introduction to solving systems of multivariate polynomials in *OSCAR*. It highlights key functionalities through examples, making it easier for users to get started. However, this tutorial does not cover all available functionality for solving over the rationals.\n",
    "\n",
    "No prior knowledge of *OSCAR* is required for this tutorial, but a basic understanding of Julia is assumed.\n",
    "\n",
    "## Contents\n",
    "\n",
    "The content of this tutorial is as follows:\n",
    "\n",
    "1. [The Concept of Algebraic Solving](#1-The-Concept-of-Algebraic-Solving)  \n",
    "2. [Aspects of Efficiency for Computing a Representation of the Solution Set](#2-Aspects-of-Efficiency-for-Computing-a-Representation-of-the-Solution-Set)  \n",
    "3. [Finitely Many Solutions](#3-Finitely-Many-Solutions)  \n",
    "4. [Infinitely Many Solutions](#4-Infinitely-Many-Solutions)  \n",
    "5. [## 5 High-level OSCAR Functionality for Solving Multivariate Polynomial Systems with Finitely Many Solutions](#5-High-level-OSCAR-Functionality-for-Solving-Multivariate-Polynomial-Systems-with-Finitely-Many-Solutions)  \n",
    "6. [Matrix Spaces](#6-Matrix-Spaces)  "
   ]
  },
  {
   "cell_type": "code",
   "execution_count": null,
   "id": "bd3322fa",
   "metadata": {},
   "outputs": [],
   "source": [
    "using Oscar"
   ]
  },
  {
   "cell_type": "code",
   "execution_count": null,
   "id": "cad3bf6b-07d8-49ed-a6fb-6ce82fd95906",
   "metadata": {
    "scrolled": true
   },
   "outputs": [],
   "source": [
    "Oscar.versioninfo()"
   ]
  },
  {
   "cell_type": "markdown",
   "id": "9bf4dfe8-22b8-4dc6-95eb-40ed854c377c",
   "metadata": {},
   "source": [
    "## 1 The concept of algebraic solving"
   ]
  },
  {
   "cell_type": "markdown",
   "id": "6156cc62-57b5-40ec-a6d3-053b520ccb0e",
   "metadata": {},
   "source": [
    "Solving a system of multivariate polynomials in variables $x_1,...,x_n$ means to find values for the variables such that all polynomials of the system _simultaneously_ evaluate to zero. Now, solving algebraically is based on the computation of a Gröbner basis w.r.t. an elimination ordering, mostly the _lexicographical_ ordering eliminating every variable, say $G_{lex}$. "
   ]
  },
  {
   "cell_type": "markdown",
   "id": "25e787bc-517a-4cb1-a853-a83234e23e1a",
   "metadata": {},
   "source": [
    "Let us define a polynomial ring in two variables $x$ and $y$ over the rationals in OSCAR."
   ]
  },
  {
   "cell_type": "code",
   "execution_count": null,
   "id": "5e48cda8-0b31-40cc-a469-3a298d8c7154",
   "metadata": {},
   "outputs": [],
   "source": [
    "R, (x,y) = polynomial_ring(QQ, [\"x\",\"y\"]);"
   ]
  },
  {
   "cell_type": "markdown",
   "id": "dacf00c5-665e-418f-bb43-5ffd6e3523cf",
   "metadata": {},
   "source": [
    "We define the system of multivariate polynomials for which we want to find solutions as an ideal in $R$."
   ]
  },
  {
   "cell_type": "code",
   "execution_count": null,
   "id": "ebcba380-7ccc-4064-8bfd-8456e04afa99",
   "metadata": {},
   "outputs": [],
   "source": [
    "I = ideal(R, [x^2+-y, x*y^2 -y]);"
   ]
  },
  {
   "cell_type": "markdown",
   "id": "0a53dbe3-20ca-4479-b360-19114507afdd",
   "metadata": {},
   "source": [
    "Next we compute a Gröbner basis for $I$ w.r.t. the lexicographical monomial ordering."
   ]
  },
  {
   "cell_type": "code",
   "execution_count": null,
   "id": "b1f4f436-bedf-4fdb-b1bd-7f4ff4c05297",
   "metadata": {},
   "outputs": [],
   "source": [
    "groebner_basis(I, ordering=lex(R))"
   ]
  },
  {
   "cell_type": "markdown",
   "id": "98331f78-ce68-4be7-a9e1-65fe9fc7389a",
   "metadata": {},
   "source": [
    "If the input system is zero dimensional, i.e. if there exist only finitely many solutions, then there exists a univariate polyniomial $f(x_n)$ which one can solve ``easily''."
   ]
  },
  {
   "cell_type": "markdown",
   "id": "e3145462-4a6d-4c3c-b9ec-4c1c53b5d94c",
   "metadata": {},
   "source": [
    "In our example this univariate polynomial is $y^4-y = (y^3-1)*y$ and has the solutions $0$ and $1$. Next, propagating the solutions for $y$ into the other polynomials of the lexicographical Gröbner basis we receive the set of solutions for $I$, namely $\\{(0,0), (1,1)\\}$."
   ]
  },
  {
   "cell_type": "markdown",
   "id": "3df3e705-24ad-4eab-a367-0ea018af9064",
   "metadata": {},
   "source": [
    "## 2 Aspects of Efficiency for Computing a Representation of the Solution Set"
   ]
  },
  {
   "attachments": {},
   "cell_type": "markdown",
   "id": "ed782635-e360-40aa-b47a-3da498619b5b",
   "metadata": {},
   "source": [
    "In general, directly computing a Gröbner basis of the input system _w.r.t. the lexicographical ordering_ is not efficient. Here, the concept of _Gröbner conversion_ is helpful. Instead of going the direct way, one uses an indirect approach based on two main steps:\n",
    "1. Compute a Gröbner basis w.r.t. an efficient monomial ordering $<_1$, say $G_{<_1}$.\n",
    "2. Convert $G_{<_1}$ to a Gröbner basis $G_{lex}$ w.r.t. the lexicographical ordering.\n",
    "\n",
    "For conversion there exists two main attempts, depending on the number of solutions of the input system."
   ]
  },
  {
   "cell_type": "markdown",
   "id": "9438644b-77af-4143-9895-13c06f8cc47b",
   "metadata": {},
   "source": [
    "## 3 Finitely Many Solutions"
   ]
  },
  {
   "cell_type": "markdown",
   "id": "15e0a1f4-6e05-492f-9e7c-b061837f8a64",
   "metadata": {},
   "source": [
    "In the situation of finitely many solutions one of the most efficient attempts is to call the FGLM algorithm once $G_{<_1}$ is computed. FGLM is based on linear algebra only and converts $G_{<_1}$ efficiently to $G_{lex}$ without the need of recomputing a Gröbner basis."
   ]
  },
  {
   "cell_type": "code",
   "execution_count": null,
   "id": "cb7988e8-d81a-4ba7-b376-cf7a0866b045",
   "metadata": {},
   "outputs": [],
   "source": [
    "G = groebner_basis(I, ordering=degrevlex(R), complete_reduction=true)"
   ]
  },
  {
   "cell_type": "code",
   "execution_count": null,
   "id": "d9106880-0c1c-4d39-9c1e-136c99979750",
   "metadata": {},
   "outputs": [],
   "source": [
    "Oscar._fglm(G, lex(R))"
   ]
  },
  {
   "cell_type": "markdown",
   "id": "c42cafb7-2e0a-4cbf-a4f4-f291f7196c29",
   "metadata": {},
   "source": [
    "As can be seen from the OSCAR code above, there are some minor pitfalls, e.g. the input Gröbner basis for FGLM needs to be reduced. Thus, instead of applying the internal function `Oscar._fglm` we have user facing function called `fglm` which does both of the above steps at once:"
   ]
  },
  {
   "cell_type": "code",
   "execution_count": null,
   "id": "c2f55548-8819-462d-a88d-779e2eb3b9db",
   "metadata": {},
   "outputs": [],
   "source": [
    "fglm(I, start_ordering=degrevlex(R), destination_ordering=lex(R))"
   ]
  },
  {
   "cell_type": "markdown",
   "id": "27f2de68-2252-4fb9-8b12-682e07d1f9c0",
   "metadata": {},
   "source": [
    "Here, `start_ordering` should be efficient for the input system. In general, the degree reverse lexicographical ordering is a good choice, but sometimes weighted orderings, etc. are better suited. This strongly depends on the input and its context. If one just wants to use the default ordering of the underlying polynomial ring $R$ (in general, degree reverse lexicographical ordering) as default start ordering, one can also call the FGLM variant via `groebner_basis` directly:"
   ]
  },
  {
   "cell_type": "code",
   "execution_count": null,
   "id": "95d7e940-0aaa-4e67-bea1-36ad279b9fbb",
   "metadata": {},
   "outputs": [],
   "source": [
    "groebner_basis(I, algorithm=:fglm, ordering=lex(R))"
   ]
  },
  {
   "cell_type": "markdown",
   "id": "5673aceb-364f-4c87-b98a-133b2917e2a2",
   "metadata": {},
   "source": [
    "## 4 Infinitely Many Solutions"
   ]
  },
  {
   "cell_type": "markdown",
   "id": "dd34f1f6-ae92-42f5-9fc3-a3654e6ac5ae",
   "metadata": {},
   "source": [
    "If the input system is not zero dimensional, but positive dimensional, the FGLM algorithm cannot be applied. Moreover, _solving_ in this setting means to find a description of the solutions from which the relevant properties of the solutions are easy to extract. What kind of description one wants to have depends on the input and its context. Here, we restrict ourselves to the approach of converting a given Gröbner basis, which is most often the basis of finding a description of the solutions.  "
   ]
  },
  {
   "cell_type": "markdown",
   "id": "13e037bc-75c6-4ada-a304-ffa0bd201200",
   "metadata": {},
   "source": [
    "The concept of _Gröbner walk_ can be used to convert bases in positive dimension. This concept is in general slower than FGLM since it cannot directly convert a basis $G_{<_1}$ to a basis $G_{<_2}$, but has to run over a path in the so-called _Gröbner cone_ over several different monomial orderings before reaching a Gröbner basis w.r.t. $<_2$."
   ]
  },
  {
   "cell_type": "code",
   "execution_count": null,
   "id": "5fbf768c-6e59-4f2f-90ac-84c765089b07",
   "metadata": {},
   "outputs": [],
   "source": [
    "groebner_walk(I)"
   ]
  },
  {
   "cell_type": "markdown",
   "id": "f9507247-9ca1-4afd-ae00-141272ed05d0",
   "metadata": {},
   "source": [
    "The above OSCAR function takes the ideal `I` of input generators as input. By default, it first computes a Gröbner basis for `I` w.r.t. the default ordering of the underlying polynomial ring $R$ (in general, degree reverse lexicographical ordering) and then converts it to a Gröbner basis w.r.t. the lexicographical ordering. If one wants to adjust these start and target orderings one can specify the corresponding parameters:"
   ]
  },
  {
   "cell_type": "code",
   "execution_count": null,
   "id": "aa19ffb3-9060-4ac8-a986-7023a77e0c33",
   "metadata": {},
   "outputs": [],
   "source": [
    "groebner_walk(I, lex(R), degrevlex(R))"
   ]
  },
  {
   "cell_type": "markdown",
   "id": "5875ee6d-7fc0-4263-b392-b00173dfaaba",
   "metadata": {},
   "source": [
    "*Note* that the above implementation of `groebner_walk()` is still in experimental status, thus things like function call, parameter naming, etc. are due to change in upcoming releases."
   ]
  },
  {
   "cell_type": "markdown",
   "id": "1117cab4-f7fb-4f15-85a2-42c41f530d1e",
   "metadata": {},
   "source": [
    "## 5 High-level OSCAR Functionality for Solving Multivariate Polynomial Systems with Finitely Many Solutions"
   ]
  },
  {
   "cell_type": "markdown",
   "id": "6795226a-9a76-4c43-a810-d5999b36976d",
   "metadata": {},
   "source": [
    "Besides computing representations of the solution sets ``by hand'' via applying Gröbner basis commands as described above, OSCAR provides a more high-level approach for solving mutlivariate polynomial systems with finitely many solutions. One can either ask for real solutions (up to a given precision) or for rational solutions. Let us take an example in $R$ which is a bit more complex"
   ]
  },
  {
   "cell_type": "code",
   "execution_count": null,
   "id": "f1621f75-771e-4eeb-9431-d2ab69793123",
   "metadata": {},
   "outputs": [],
   "source": [
    "I = ideal(R, [x^2-y-1, x+y -y^2+1])"
   ]
  },
  {
   "cell_type": "code",
   "execution_count": null,
   "id": "cc9c1ce0-1369-464a-8c22-6155ab161251",
   "metadata": {},
   "outputs": [],
   "source": [
    "sol = real_solutions(I)"
   ]
  },
  {
   "cell_type": "markdown",
   "id": "52fe8e03-6b78-4f18-85e3-749506146459",
   "metadata": {},
   "source": [
    "First of all, this seems to be a lot of information, but let us have a closer look at `sol`. It consists of two parts: The first one is the set of real solutions:"
   ]
  },
  {
   "cell_type": "code",
   "execution_count": null,
   "id": "c13b7be1-1bb6-4b9c-b5a4-24c41ab9a820",
   "metadata": {},
   "outputs": [],
   "source": [
    "sol[1]"
   ]
  },
  {
   "cell_type": "markdown",
   "id": "eb68a7c6-cd03-43b2-8222-2c625d38c5cf",
   "metadata": {},
   "source": [
    "The second part represents the solution set as a rational parametrization, one can think of as a condensed version of the Gröbner basis for `I` w.r.t. the lexicographical ordering."
   ]
  },
  {
   "cell_type": "code",
   "execution_count": null,
   "id": "9eb2c5ee-ea67-42af-abae-c1ad877e44a6",
   "metadata": {},
   "outputs": [],
   "source": [
    "sol[2]"
   ]
  },
  {
   "cell_type": "markdown",
   "id": "68ef9f69-f77d-4c2d-81f6-f31471fc1224",
   "metadata": {},
   "source": [
    "If one is only interested in the rational solutions of the input systems, one does not need to extract the rational solutions from the real solution set above, but can call directly:"
   ]
  },
  {
   "cell_type": "code",
   "execution_count": null,
   "id": "a65433d6-2cc9-4474-9067-3abb37a3d765",
   "metadata": {},
   "outputs": [],
   "source": [
    "rational_solutions(I)"
   ]
  }
 ],
 "metadata": {
  "kernelspec": {
   "display_name": "Julia 1.10.7",
   "language": "julia",
   "name": "julia-1.10"
  },
  "language_info": {
   "file_extension": ".jl",
   "mimetype": "application/julia",
   "name": "julia",
   "version": "1.10.7"
  }
 },
 "nbformat": 4,
 "nbformat_minor": 5
}
