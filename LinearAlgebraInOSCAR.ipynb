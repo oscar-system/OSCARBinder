{
 "cells": [
  {
   "cell_type": "markdown",
   "id": "1181aec5-bf82-4eb3-87bf-40870ebe0436",
   "metadata": {},
   "source": [
    "# Linear Algebra in OSCAR\n",
    "\n",
    "* Authors: Martin Bies, Aaruni Kaushik\n",
    "* Version: OSCAR version 1.2.2 or newer."
   ]
  },
  {
   "cell_type": "markdown",
   "id": "aa5a7942-0d7c-44f4-817e-d99dfdd8a428",
   "metadata": {},
   "source": [
    "This tutorial provides an introduction to linear algebra in OSCAR. The aim is to describe important functionality and to exemplify it, so that users can start to use OSCAR more easily. Still, let us note that this tutorial does not aim to cover all of the existing functionality. Instead, we present a selection of arguably very important functions and features. For a more complete overview, please consult the documentation at https://docs.oscar-system.org/stable/LinearAlgebra/intro/.\n",
    "\n",
    "For this tutorial, the reader need not be familiar with OSCAR, but is assumed to have some basic understanding of Julia.\n",
    "\n",
    "The content of this notebook is as follows:\n",
    "1. [Creating Matrices](#1-Creating-Matrices)\n",
    "2. [Solving Linear Equation Systems](#2-Solving-Linear-Equation-Systems)\n",
    "3. [Eigenvalues and Eigenspaces](#3-Eigenvalues-and-Eigenspaces)\n",
    "4. [Normalforms](#4-Normalforms)\n"
   ]
  },
  {
   "cell_type": "code",
   "execution_count": 1,
   "id": "bd3322fa",
   "metadata": {},
   "outputs": [],
   "source": [
    "using Oscar\n",
    "using Test"
   ]
  },
  {
   "cell_type": "code",
   "execution_count": 2,
   "id": "cddc1590",
   "metadata": {},
   "outputs": [
    {
     "name": "stdout",
     "output_type": "stream",
     "text": [
      "OSCAR version 1.2.2\n",
      "  combining:\n",
      "    AbstractAlgebra.jl   v0.44.2\n",
      "    GAP.jl               v0.12.3\n",
      "    Hecke.jl             v0.35.7\n",
      "    Nemo.jl              v0.48.0\n",
      "    Polymake.jl          v0.11.24\n",
      "    Singular.jl          v0.24.1\n"
     ]
    }
   ],
   "source": [
    "Oscar.versioninfo()"
   ]
  },
  {
   "cell_type": "markdown",
   "id": "c1b3246b",
   "metadata": {},
   "source": [
    "## 1 Creating Matrices"
   ]
  },
  {
   "cell_type": "markdown",
   "id": "49ec5cc7-e1fb-4b90-a9c0-1f791cd63a92",
   "metadata": {},
   "source": [
    "Crucially, OSCAR its own matrix type. Details of the latter are available here: https://docs.oscar-system.org/stable/AbstractAlgebra/matrix/#Matrix-functionality\n",
    "\n",
    "The central reason is that every matrix should have a unique coefficient ring assigned and for a Julia matrix this is not possible. Types (even with parameters) are not suitable for this purpose. For details, see (link to be inserted).\n",
    "\n",
    "\n",
    "In the following, we will elaborate on how we create such OSCAR matrices. For conversion of the \"normal\" julia matrices into OSCAR matrices, see for instance https://docs.oscar-system.org/stable/AbstractAlgebra/matrix/#Conversion-to-Julia-matrices,-iteration-and-broacasting."
   ]
  },
  {
   "cell_type": "markdown",
   "id": "fcb038f8-51b0-4b0d-8a6d-e88b815d411a",
   "metadata": {},
   "source": [
    "There are many ways to create matrices in $\\texttt{OSCAR}$. We demonstrate a few.\n",
    "\n",
    "In constrast to ordinary Julia matrices, please note that we specify the specify the coefficients ring."
   ]
  },
  {
   "cell_type": "code",
   "execution_count": 3,
   "id": "b734cc21-664d-4f40-b932-151cae872dd0",
   "metadata": {},
   "outputs": [
    {
     "data": {
      "text/plain": [
       "[1   2   3]\n",
       "[4   5   6]"
      ]
     },
     "execution_count": 3,
     "metadata": {},
     "output_type": "execute_result"
    }
   ],
   "source": [
    "m = matrix(ZZ, [1 2 3 ; 4 5 6])"
   ]
  },
  {
   "cell_type": "markdown",
   "id": "d9f67081-93ab-4818-961f-38ee084b4cf8",
   "metadata": {},
   "source": [
    "We can create a matrix with the same coefficients over the rationals:"
   ]
  },
  {
   "cell_type": "code",
   "execution_count": 4,
   "id": "e21a6c44-9fe0-4330-9b73-9cd175093885",
   "metadata": {},
   "outputs": [
    {
     "data": {
      "text/plain": [
       "[1   2   3]\n",
       "[4   5   6]"
      ]
     },
     "execution_count": 4,
     "metadata": {},
     "output_type": "execute_result"
    }
   ],
   "source": [
    "m2 = matrix(QQ, [1 2 3; 4 5 6])"
   ]
  },
  {
   "cell_type": "markdown",
   "id": "dfe5d96a-7462-4f7f-9a6c-d2b4b6f9f1fe",
   "metadata": {},
   "source": [
    "Note that these two matrices print the same but they have different types."
   ]
  },
  {
   "cell_type": "code",
   "execution_count": 5,
   "id": "1306507b-f9d7-493f-a0da-4365b3ec47e4",
   "metadata": {},
   "outputs": [
    {
     "data": {
      "text/plain": [
       "ZZMatrix"
      ]
     },
     "execution_count": 5,
     "metadata": {},
     "output_type": "execute_result"
    }
   ],
   "source": [
    "typeof(m)"
   ]
  },
  {
   "cell_type": "code",
   "execution_count": 6,
   "id": "a7e98352-3e62-47fb-a607-1e5bb1da12e1",
   "metadata": {},
   "outputs": [
    {
     "data": {
      "text/plain": [
       "QQMatrix"
      ]
     },
     "execution_count": 6,
     "metadata": {},
     "output_type": "execute_result"
    }
   ],
   "source": [
    "typeof(m2)"
   ]
  },
  {
   "cell_type": "markdown",
   "id": "c0496c95-b5b7-4fe9-9cce-8ef45300b67f",
   "metadata": {},
   "source": [
    "Despite these matrices being defined over different coefficient rings, we can (for instance) add them:"
   ]
  },
  {
   "cell_type": "code",
   "execution_count": 7,
   "id": "d7eceabc-9340-4270-be44-388121054e8c",
   "metadata": {},
   "outputs": [
    {
     "data": {
      "text/plain": [
       "[2    4    6]\n",
       "[8   10   12]"
      ]
     },
     "execution_count": 7,
     "metadata": {},
     "output_type": "execute_result"
    }
   ],
   "source": [
    "m+m2"
   ]
  },
  {
   "cell_type": "markdown",
   "id": "93e5db61-a483-4d98-9f68-8fd4e397c9d3",
   "metadata": {},
   "source": [
    "Likewise a comparison is possible:"
   ]
  },
  {
   "cell_type": "code",
   "execution_count": 8,
   "id": "b12ca3e4-0c2c-454c-b36b-cf8d43c03d5b",
   "metadata": {},
   "outputs": [
    {
     "data": {
      "text/plain": [
       "true"
      ]
     },
     "execution_count": 8,
     "metadata": {},
     "output_type": "execute_result"
    }
   ],
   "source": [
    "m == m2"
   ]
  },
  {
   "cell_type": "markdown",
   "id": "f767911d-c786-456f-af1b-6c2475622172",
   "metadata": {},
   "source": [
    "This fails for other coefficient rings. As an example, let us consider the following matrices:"
   ]
  },
  {
   "cell_type": "code",
   "execution_count": 9,
   "id": "e38e297f-592c-4032-93d2-e6b11d023d30",
   "metadata": {},
   "outputs": [
    {
     "data": {
      "text/plain": [
       "[1   0   0   0]\n",
       "[0   1   0   0]\n",
       "[0   0   1   0]\n",
       "[0   0   0   1]"
      ]
     },
     "execution_count": 9,
     "metadata": {},
     "output_type": "execute_result"
    }
   ],
   "source": [
    "F, a = finite_field(9, \"a\")\n",
    "If = identity_matrix(F, 4)"
   ]
  },
  {
   "cell_type": "code",
   "execution_count": 10,
   "id": "35a7d3d8-5bf2-4a5e-9a53-42187df5d75c",
   "metadata": {},
   "outputs": [
    {
     "data": {
      "text/plain": [
       "[1   0   0   0]\n",
       "[0   1   0   0]\n",
       "[0   0   1   0]\n",
       "[0   0   0   1]"
      ]
     },
     "execution_count": 10,
     "metadata": {},
     "output_type": "execute_result"
    }
   ],
   "source": [
    "Iz = identity_matrix(ZZ, 4)"
   ]
  },
  {
   "cell_type": "code",
   "execution_count": 11,
   "id": "42ff4f7f-0ac6-4f30-944b-fe1ffda74038",
   "metadata": {},
   "outputs": [
    {
     "data": {
      "text/plain": [
       "[1   0   0   0]\n",
       "[0   1   0   0]\n",
       "[0   0   1   0]\n",
       "[0   0   0   1]"
      ]
     },
     "execution_count": 11,
     "metadata": {},
     "output_type": "execute_result"
    }
   ],
   "source": [
    "Iq = identity_matrix(QQ, 4)"
   ]
  },
  {
   "cell_type": "markdown",
   "id": "3b290602",
   "metadata": {},
   "source": [
    "Note that we used a convenience functions to create these identity matrices. More such functionality does exist, see e.g. https://docs.oscar-system.org/stable/AbstractAlgebra/matrix/#Basic-matrix-functionality. Here is another example use of such a convenience function:"
   ]
  },
  {
   "cell_type": "code",
   "execution_count": 12,
   "id": "7000f6ee-a6d2-427f-a36e-cc54e67325fe",
   "metadata": {},
   "outputs": [
    {
     "data": {
      "text/plain": [
       "[0   0   0   0   0]\n",
       "[0   0   0   0   0]\n",
       "[0   0   0   0   0]\n",
       "[0   0   0   0   0]"
      ]
     },
     "execution_count": 12,
     "metadata": {},
     "output_type": "execute_result"
    }
   ],
   "source": [
    "zero_matrix(ZZ, 4, 5)"
   ]
  },
  {
   "cell_type": "markdown",
   "id": "ca818c24-c965-4041-b295-6668d5482ef1",
   "metadata": {},
   "source": [
    "Let us now return to our matrices $Iz$, $Iq$ and $If$. Those are defined over different coefficient rings. While they print the same, not all pairs of them can be compared:"
   ]
  },
  {
   "cell_type": "code",
   "execution_count": 13,
   "id": "cf02c02e",
   "metadata": {},
   "outputs": [
    {
     "data": {
      "text/plain": [
       "true"
      ]
     },
     "execution_count": 13,
     "metadata": {},
     "output_type": "execute_result"
    }
   ],
   "source": [
    "Iz == Iq"
   ]
  },
  {
   "cell_type": "code",
   "execution_count": 14,
   "id": "89bab643",
   "metadata": {},
   "outputs": [
    {
     "data": {
      "text/plain": [
       "true"
      ]
     },
     "execution_count": 14,
     "metadata": {},
     "output_type": "execute_result"
    }
   ],
   "source": [
    "Iz == If"
   ]
  },
  {
   "cell_type": "code",
   "execution_count": 15,
   "id": "2e2f0d4c-022e-4332-8707-42eda8786b60",
   "metadata": {},
   "outputs": [
    {
     "data": {
      "text/plain": [
       "\u001b[33m\u001b[1mTest Broken\u001b[22m\u001b[39m\n",
       "  Expression: If == Iq"
      ]
     },
     "execution_count": 15,
     "metadata": {},
     "output_type": "execute_result"
    }
   ],
   "source": [
    "@test_broken If == Iq"
   ]
  },
  {
   "cell_type": "markdown",
   "id": "45d05609",
   "metadata": {},
   "source": [
    "This is not a bug! Rather, in general, elements of different rings cannot be compared (or added). In other words: When matrices are defined over different coefficient rings, then in general they behave differently and cannot be added, compared, etc."
   ]
  },
  {
   "cell_type": "markdown",
   "id": "10247cf5-754b-49d3-99e3-8f3fa080a53e",
   "metadata": {},
   "source": [
    "## 2 Solving Linear Equation Systems"
   ]
  },
  {
   "cell_type": "markdown",
   "id": "e162d816-146f-4e3a-ac18-ecbbd148bfed",
   "metadata": {},
   "source": [
    "Let us solve the following system of linear equations in $\\texttt{OSCAR}$ over $\\mathbb{Q}$:\n",
    "\n",
    "$$ \\left[ \\begin{array}{ccc} 1 & 2 & 3 \\\\ 2 & 4 & 6 \\end{array} \\right] \\cdot v = \\left[ \\begin{array}{c} -5 \\\\ -10 \\end{array} \\right] $$"
   ]
  },
  {
   "cell_type": "code",
   "execution_count": 16,
   "id": "918acee1-185a-4c29-ae25-01b2389ad301",
   "metadata": {},
   "outputs": [
    {
     "data": {
      "text/plain": [
       "[1   2   3]\n",
       "[2   4   6]"
      ]
     },
     "execution_count": 16,
     "metadata": {},
     "output_type": "execute_result"
    }
   ],
   "source": [
    "m = matrix(QQ, [[1,2,3], [2,4,6]])"
   ]
  },
  {
   "cell_type": "code",
   "execution_count": 17,
   "id": "65539514-0655-401a-a74b-d568eb6babc8",
   "metadata": {},
   "outputs": [
    {
     "data": {
      "text/plain": [
       "[ -5]\n",
       "[-10]"
      ]
     },
     "execution_count": 17,
     "metadata": {},
     "output_type": "execute_result"
    }
   ],
   "source": [
    "b = matrix(QQ, [[-5], [-10]])"
   ]
  },
  {
   "cell_type": "code",
   "execution_count": 18,
   "id": "43aad064-ec7d-4698-8cc5-79a98c97556c",
   "metadata": {},
   "outputs": [
    {
     "data": {
      "text/plain": [
       "[-5]\n",
       "[ 0]\n",
       "[ 0]"
      ]
     },
     "execution_count": 18,
     "metadata": {},
     "output_type": "execute_result"
    }
   ],
   "source": [
    "solve(m, b, side = :right)"
   ]
  },
  {
   "cell_type": "markdown",
   "id": "66e5e5f4-6a13-45f4-9f77-514acc643dea",
   "metadata": {},
   "source": [
    "But of course, this is merely a single solution. To obtain all solutions, we need to add the nullspace."
   ]
  },
  {
   "cell_type": "code",
   "execution_count": 19,
   "id": "de00d595-ac21-4eed-b12a-c8376dcf65bc",
   "metadata": {},
   "outputs": [
    {
     "data": {
      "text/plain": [
       "(2, [-2 -3; 1 0; 0 1])"
      ]
     },
     "execution_count": 19,
     "metadata": {},
     "output_type": "execute_result"
    }
   ],
   "source": [
    "nullspace(m)"
   ]
  },
  {
   "cell_type": "markdown",
   "id": "fec2e189-3301-4a3b-a183-2b962a214188",
   "metadata": {},
   "source": [
    "The first return value is the dimension of the nullspace, and the second is a basis of the nullspace."
   ]
  },
  {
   "cell_type": "code",
   "execution_count": 20,
   "id": "e8dc5823-2d18-495b-ba4e-c29876321d8e",
   "metadata": {},
   "outputs": [
    {
     "data": {
      "text/plain": [
       "[-2   -3]\n",
       "[ 1    0]\n",
       "[ 0    1]"
      ]
     },
     "execution_count": 20,
     "metadata": {},
     "output_type": "execute_result"
    }
   ],
   "source": [
    "nullspace(m)[2]"
   ]
  },
  {
   "cell_type": "markdown",
   "id": "4d873740-e9f4-4e3a-8b1e-3aac309a1bd8",
   "metadata": {},
   "source": [
    "Additional information is available in the OSCAR documentation. See for instance:\n",
    "* https://docs.oscar-system.org/stable/AbstractAlgebra/linear_solving/#solving_chapter.\n",
    "* https://docs.oscar-system.org/stable/AbstractAlgebra/matrix/#nullspace-Union{Tuple{MatElem{T}},%20Tuple{T}}%20where%20T%3C:FieldElem"
   ]
  },
  {
   "cell_type": "markdown",
   "id": "ec646285-2e57-403d-8a14-4244c62eeb41",
   "metadata": {},
   "source": [
    "## 3 Eigenvalues and Eigenspaces"
   ]
  },
  {
   "cell_type": "markdown",
   "id": "6f2590b8",
   "metadata": {},
   "source": [
    "In this section, we demonstrate how to find eigenvalues, and eigenspaces of a diagonalizable matrix.\n",
    "For simplicity, we focus on the case of a matrix that is diagonalizable over $\\mathbb{Q}$"
   ]
  },
  {
   "cell_type": "code",
   "execution_count": 21,
   "id": "c95fd646-96b3-4f68-aaa2-b6e1b7adfbbd",
   "metadata": {},
   "outputs": [
    {
     "data": {
      "text/plain": [
       "[-16   -28   -19]\n",
       "[ 42    69    46]\n",
       "[-42   -72   -49]"
      ]
     },
     "execution_count": 21,
     "metadata": {},
     "output_type": "execute_result"
    }
   ],
   "source": [
    "M = matrix(QQ, [[-16, -28, -19], [42, 69, 46], [-42, -72, -49]])"
   ]
  },
  {
   "cell_type": "code",
   "execution_count": 22,
   "id": "7c4e5a1e",
   "metadata": {},
   "outputs": [
    {
     "data": {
      "text/plain": [
       "-30"
      ]
     },
     "execution_count": 22,
     "metadata": {},
     "output_type": "execute_result"
    }
   ],
   "source": [
    "det(M)"
   ]
  },
  {
   "cell_type": "code",
   "execution_count": 23,
   "id": "76a59b2d",
   "metadata": {},
   "outputs": [
    {
     "data": {
      "text/plain": [
       "x^3 - 4*x^2 - 11*x + 30"
      ]
     },
     "execution_count": 23,
     "metadata": {},
     "output_type": "execute_result"
    }
   ],
   "source": [
    "characteristic_polynomial(M)"
   ]
  },
  {
   "cell_type": "code",
   "execution_count": 24,
   "id": "81117589",
   "metadata": {
    "scrolled": true
   },
   "outputs": [
    {
     "data": {
      "text/plain": [
       "3-element Vector{QQBarFieldElem}:\n",
       " Root 5.00000 of x - 5\n",
       " Root 2.00000 of x - 2\n",
       " Root -3.00000 of x + 3"
      ]
     },
     "execution_count": 24,
     "metadata": {},
     "output_type": "execute_result"
    }
   ],
   "source": [
    "eigenvalues(QQBarField(), M)"
   ]
  },
  {
   "cell_type": "code",
   "execution_count": 25,
   "id": "9a128e7d",
   "metadata": {},
   "outputs": [
    {
     "data": {
      "text/plain": [
       "[2   2   1]\n",
       "[7   4   1]\n",
       "[0   1   1]"
      ]
     },
     "execution_count": 25,
     "metadata": {},
     "output_type": "execute_result"
    }
   ],
   "source": [
    "A = vcat([eigenspace(M, QQ(5)), eigenspace(M, QQ(2)), eigenspace(M, QQ(-3))]...)"
   ]
  },
  {
   "cell_type": "code",
   "execution_count": 26,
   "id": "8996201c",
   "metadata": {},
   "outputs": [
    {
     "data": {
      "text/plain": [
       "[5   0    0]\n",
       "[0   2    0]\n",
       "[0   0   -3]"
      ]
     },
     "execution_count": 26,
     "metadata": {},
     "output_type": "execute_result"
    }
   ],
   "source": [
    "D = diagonal_matrix(QQ, [5, 2, -3])"
   ]
  },
  {
   "cell_type": "code",
   "execution_count": 27,
   "id": "c3eda6b1",
   "metadata": {},
   "outputs": [
    {
     "data": {
      "text/plain": [
       "true"
      ]
     },
     "execution_count": 27,
     "metadata": {},
     "output_type": "execute_result"
    }
   ],
   "source": [
    "(inv(A) * D * A) == M"
   ]
  },
  {
   "cell_type": "markdown",
   "id": "7692317a-2f87-463c-a673-ceeef9a4e290",
   "metadata": {},
   "source": [
    "For more details see e.g. https://docs.oscar-system.org/stable/Nemo/algebraic/#eigenvalues-Tuple{QQBarField,%20ZZMatrix}."
   ]
  },
  {
   "cell_type": "markdown",
   "id": "b3f96ebf-cf37-4619-b733-97dcae562bbd",
   "metadata": {},
   "source": [
    "## 4 Normalforms"
   ]
  },
  {
   "cell_type": "markdown",
   "id": "996773d4",
   "metadata": {},
   "source": [
    "There are many many normal forms, we demonstrate how to compute the Smith and the Hermite normal form."
   ]
  },
  {
   "cell_type": "markdown",
   "id": "9077ae42",
   "metadata": {},
   "source": [
    "### 4.1 Smith Normal Form"
   ]
  },
  {
   "cell_type": "code",
   "execution_count": 28,
   "id": "e7932e72-6e54-4b90-aeb9-5b957e160775",
   "metadata": {},
   "outputs": [
    {
     "data": {
      "text/plain": [
       "[-16   -28   -19]\n",
       "[ 42    69    46]\n",
       "[-42   -72   -49]"
      ]
     },
     "execution_count": 28,
     "metadata": {},
     "output_type": "execute_result"
    }
   ],
   "source": [
    "M"
   ]
  },
  {
   "cell_type": "code",
   "execution_count": 29,
   "id": "78b29ecd-7954-40b9-b7cc-c1b5e965f509",
   "metadata": {},
   "outputs": [
    {
     "data": {
      "text/plain": [
       "[1   0   0]\n",
       "[0   1   0]\n",
       "[0   0   1]"
      ]
     },
     "execution_count": 29,
     "metadata": {},
     "output_type": "execute_result"
    }
   ],
   "source": [
    "snf(M)"
   ]
  },
  {
   "cell_type": "code",
   "execution_count": 30,
   "id": "ab4cd49e-9d3a-4937-9bce-cf8db8d8e5d4",
   "metadata": {},
   "outputs": [
    {
     "data": {
      "text/plain": [
       "([1 0 0; 0 1 0; 0 0 1], [1 0 0; 21//80 -7//240 -31//240; 21//5 -4//5 -12//5], [-1//16 28 -19//16; 0 -16 0; 0 0 1])"
      ]
     },
     "execution_count": 30,
     "metadata": {},
     "output_type": "execute_result"
    }
   ],
   "source": [
    "S, T, U = snf_with_transform(M)"
   ]
  },
  {
   "cell_type": "code",
   "execution_count": 31,
   "id": "2b9996cb",
   "metadata": {},
   "outputs": [
    {
     "data": {
      "text/plain": [
       "true"
      ]
     },
     "execution_count": 31,
     "metadata": {},
     "output_type": "execute_result"
    }
   ],
   "source": [
    "M == inv(T) * S * inv(U)"
   ]
  },
  {
   "cell_type": "markdown",
   "id": "8f4573e2-5cc6-4dfe-8a75-eae144a19ef7",
   "metadata": {},
   "source": [
    " For more details see https://docs.oscar-system.org/stable/AbstractAlgebra/matrix/#Smith-normal-form."
   ]
  },
  {
   "cell_type": "markdown",
   "id": "85fc7fa1",
   "metadata": {},
   "source": [
    "### 4.2 Hermite Normal Form"
   ]
  },
  {
   "cell_type": "code",
   "execution_count": 32,
   "id": "78cc6637",
   "metadata": {},
   "outputs": [
    {
     "data": {
      "text/plain": [
       "[-16   -28   -19]\n",
       "[ 42    69    46]\n",
       "[-42   -72   -49]"
      ]
     },
     "execution_count": 32,
     "metadata": {},
     "output_type": "execute_result"
    }
   ],
   "source": [
    "M"
   ]
  },
  {
   "cell_type": "code",
   "execution_count": 33,
   "id": "f22df779",
   "metadata": {},
   "outputs": [
    {
     "data": {
      "text/plain": [
       "[1   0   0]\n",
       "[0   1   0]\n",
       "[0   0   1]"
      ]
     },
     "execution_count": 33,
     "metadata": {},
     "output_type": "execute_result"
    }
   ],
   "source": [
    "hnf(M)"
   ]
  },
  {
   "cell_type": "code",
   "execution_count": 34,
   "id": "616d7f2b",
   "metadata": {},
   "outputs": [
    {
     "data": {
      "text/plain": [
       "([1 0 0; 0 1 0; 0 0 1], [23//10 2//15 -23//30; -21//5 7//15 31//15; 21//5 -4//5 -12//5])"
      ]
     },
     "execution_count": 34,
     "metadata": {},
     "output_type": "execute_result"
    }
   ],
   "source": [
    "H, U = hnf_with_transform(M)"
   ]
  },
  {
   "cell_type": "code",
   "execution_count": 35,
   "id": "e65ae9e9",
   "metadata": {},
   "outputs": [
    {
     "data": {
      "text/plain": [
       "true"
      ]
     },
     "execution_count": 35,
     "metadata": {},
     "output_type": "execute_result"
    }
   ],
   "source": [
    "M == inv(U) * H"
   ]
  },
  {
   "cell_type": "markdown",
   "id": "7170b89a-58d4-4b1f-a071-6edd702ecce9",
   "metadata": {},
   "source": [
    "For more details see https://docs.oscar-system.org/stable/AbstractAlgebra/matrix/#Hermite-normal-form."
   ]
  },
  {
   "cell_type": "markdown",
   "id": "3977e5b5",
   "metadata": {},
   "source": [
    "## 5 Vector"
   ]
  },
  {
   "cell_type": "markdown",
   "id": "12570d81-f3ca-4978-8644-00750cff479d",
   "metadata": {},
   "source": [
    "One way of creating vectors, is by extracting rows and columns of a matrix. Let us demonstrate this:"
   ]
  },
  {
   "cell_type": "code",
   "execution_count": 36,
   "id": "8a10a045",
   "metadata": {},
   "outputs": [
    {
     "data": {
      "text/plain": [
       "[1   2   3]\n",
       "[4   5   6]"
      ]
     },
     "execution_count": 36,
     "metadata": {},
     "output_type": "execute_result"
    }
   ],
   "source": [
    "M = matrix(QQ, [[1,2,3], [4,5,6]])"
   ]
  },
  {
   "cell_type": "code",
   "execution_count": 37,
   "id": "ccfd32e5",
   "metadata": {},
   "outputs": [
    {
     "data": {
      "text/plain": [
       "[1   2   3]"
      ]
     },
     "execution_count": 37,
     "metadata": {},
     "output_type": "execute_result"
    }
   ],
   "source": [
    "row = M[1:1,:]"
   ]
  },
  {
   "cell_type": "code",
   "execution_count": 38,
   "id": "4f1d1c2c-2404-43b8-800b-c1c5e9303812",
   "metadata": {},
   "outputs": [
    {
     "data": {
      "text/plain": [
       "[1]\n",
       "[4]"
      ]
     },
     "execution_count": 38,
     "metadata": {},
     "output_type": "execute_result"
    }
   ],
   "source": [
    "col = M[:,1:1]"
   ]
  },
  {
   "cell_type": "markdown",
   "id": "38607d52-08af-46a5-87e5-025c4bbb968b",
   "metadata": {},
   "source": [
    "Certainly, we can multiply the original matrix from the right with the transpose of row:"
   ]
  },
  {
   "cell_type": "code",
   "execution_count": 39,
   "id": "cb05e7f2",
   "metadata": {},
   "outputs": [
    {
     "data": {
      "text/plain": [
       "[14]\n",
       "[32]"
      ]
     },
     "execution_count": 39,
     "metadata": {},
     "output_type": "execute_result"
    }
   ],
   "source": [
    "M * transpose(row)"
   ]
  },
  {
   "cell_type": "markdown",
   "id": "e62119b6-d392-4b43-9c12-23c7104852f7",
   "metadata": {},
   "source": [
    "Likewise, we can multiply the original matrix from the left with the transpose of col:"
   ]
  },
  {
   "cell_type": "code",
   "execution_count": 40,
   "id": "c672ff78",
   "metadata": {},
   "outputs": [
    {
     "data": {
      "text/plain": [
       "[17   22   27]"
      ]
     },
     "execution_count": 40,
     "metadata": {},
     "output_type": "execute_result"
    }
   ],
   "source": [
    "transpose(col) * M"
   ]
  },
  {
   "cell_type": "markdown",
   "id": "81897ee6-16f7-443b-986b-43fc40e745ae",
   "metadata": {},
   "source": [
    "Incompatible matrix dimensions lead to errors. In the case at hand, this is for instance the case here:"
   ]
  },
  {
   "cell_type": "code",
   "execution_count": 41,
   "id": "e5195f5e",
   "metadata": {},
   "outputs": [
    {
     "data": {
      "text/plain": [
       "\u001b[33m\u001b[1mTest Broken\u001b[22m\u001b[39m\n",
       "  Expression: M * col"
      ]
     },
     "execution_count": 41,
     "metadata": {},
     "output_type": "execute_result"
    }
   ],
   "source": [
    "@test_broken M * col"
   ]
  },
  {
   "cell_type": "code",
   "execution_count": 42,
   "id": "f8351805",
   "metadata": {},
   "outputs": [
    {
     "data": {
      "text/plain": [
       "\u001b[33m\u001b[1mTest Broken\u001b[22m\u001b[39m\n",
       "  Expression: col * M"
      ]
     },
     "execution_count": 42,
     "metadata": {},
     "output_type": "execute_result"
    }
   ],
   "source": [
    "@test_broken col * M"
   ]
  },
  {
   "cell_type": "code",
   "execution_count": null,
   "id": "196d3e15-3a7c-40dd-81c5-5b29e16eb7db",
   "metadata": {},
   "outputs": [],
   "source": []
  }
 ],
 "metadata": {
  "kernelspec": {
   "display_name": "Julia 1.10.5",
   "language": "julia",
   "name": "julia-1.10"
  },
  "language_info": {
   "file_extension": ".jl",
   "mimetype": "application/julia",
   "name": "julia",
   "version": "1.10.5"
  }
 },
 "nbformat": 4,
 "nbformat_minor": 5
}
