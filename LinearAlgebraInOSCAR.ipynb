{
 "cells": [
  {
   "cell_type": "markdown",
   "id": "1181aec5-bf82-4eb3-87bf-40870ebe0436",
   "metadata": {},
   "source": [
    "# Linear Algebra in OSCAR\n",
    "\n",
    "* Authors: Martin Bies, Aaruni Kaushik\n",
    "* Version: OSCAR version 1.2.0 or newer."
   ]
  },
  {
   "cell_type": "markdown",
   "id": "aa5a7942-0d7c-44f4-817e-d99dfdd8a428",
   "metadata": {},
   "source": [
    "This tutorial provides an introduction to linear algebra in OSCAR. The aim is to describe important functionality and to exemplify it, so that users can start to use OSCAR more easily. Still, let us note that this tutorial does not aim to cover all of the existing functionality. Instead, we present a selection of arguably very important functions and features. For a more complete overview, please consult the documentation at https://docs.oscar-system.org/stable/LinearAlgebra/intro/.\n",
    "\n",
    "For this tutorial, the reader need not be familiar with OSCAR, but is assumed to have some basic understanding of Julia.\n",
    "\n",
    "The content of this notebook is as follows:\n",
    "1. [Creating Matrices](#1-Creating-Matrices)\n",
    "2. [Solving Linear Equation Systems](#2-Solving-Linear-Equation-Systems)\n",
    "3. [Eigenvalues and Eigenspaces](#3-Eigenvalues-and-Eigenspaces)\n",
    "4. [Normalforms](#4-Normalforms)\n"
   ]
  },
  {
   "cell_type": "code",
   "execution_count": 69,
   "id": "bd3322fa",
   "metadata": {},
   "outputs": [],
   "source": [
    "using Oscar\n",
    "using Test"
   ]
  },
  {
   "cell_type": "code",
   "execution_count": 2,
   "id": "cddc1590",
   "metadata": {},
   "outputs": [
    {
     "name": "stdout",
     "output_type": "stream",
     "text": [
      "OSCAR version 1.1.1\n",
      "  combining:\n",
      "    AbstractAlgebra.jl   v0.41.9\n",
      "    GAP.jl               v0.10.4\n",
      "    Hecke.jl             v0.32.3\n",
      "    Nemo.jl              v0.45.6\n",
      "    Polymake.jl          v0.11.19\n",
      "    Singular.jl          v0.23.4\n"
     ]
    }
   ],
   "source": [
    "Oscar.versioninfo()"
   ]
  },
  {
   "cell_type": "markdown",
   "id": "c1b3246b",
   "metadata": {},
   "source": [
    "## 1 Creating Matrices"
   ]
  },
  {
   "cell_type": "markdown",
   "id": "fcb038f8-51b0-4b0d-8a6d-e88b815d411a",
   "metadata": {},
   "source": [
    "There are many ways to create matrices in $\\texttt{OSCAR}$. We demonstrate a few:"
   ]
  },
  {
   "cell_type": "code",
   "execution_count": 3,
   "id": "b734cc21-664d-4f40-b932-151cae872dd0",
   "metadata": {},
   "outputs": [
    {
     "data": {
      "text/plain": [
       "[1   2   3]\n",
       "[4   5   6]"
      ]
     },
     "execution_count": 3,
     "metadata": {},
     "output_type": "execute_result"
    }
   ],
   "source": [
    "m = matrix(ZZ, [[1,2,3],[4,5,6]])"
   ]
  },
  {
   "cell_type": "code",
   "execution_count": 4,
   "id": "1306507b-f9d7-493f-a0da-4365b3ec47e4",
   "metadata": {},
   "outputs": [
    {
     "data": {
      "text/plain": [
       "ZZMatrix"
      ]
     },
     "execution_count": 4,
     "metadata": {},
     "output_type": "execute_result"
    }
   ],
   "source": [
    "typeof(m)"
   ]
  },
  {
   "cell_type": "code",
   "execution_count": 5,
   "id": "1a4af2f5-7606-4933-b17a-3855a23bdbf7",
   "metadata": {},
   "outputs": [
    {
     "data": {
      "text/plain": [
       "2×3 Matrix{Int64}:\n",
       " 1  2  3\n",
       " 4  5  6"
      ]
     },
     "execution_count": 5,
     "metadata": {},
     "output_type": "execute_result"
    }
   ],
   "source": [
    "m2 = [1 2 3; 4 5 6]"
   ]
  },
  {
   "cell_type": "code",
   "execution_count": 6,
   "id": "75d00217-7f3d-4ffc-8a66-f2fe2a430a22",
   "metadata": {},
   "outputs": [
    {
     "data": {
      "text/plain": [
       "[1   2   3]\n",
       "[4   5   6]"
      ]
     },
     "execution_count": 6,
     "metadata": {},
     "output_type": "execute_result"
    }
   ],
   "source": [
    "m3 = matrix(QQ, m2)"
   ]
  },
  {
   "cell_type": "code",
   "execution_count": 7,
   "id": "9364be30-1897-46d6-bb4d-812d504e8a34",
   "metadata": {},
   "outputs": [
    {
     "data": {
      "text/plain": [
       "QQMatrix"
      ]
     },
     "execution_count": 7,
     "metadata": {},
     "output_type": "execute_result"
    }
   ],
   "source": [
    "typeof(m3)"
   ]
  },
  {
   "cell_type": "markdown",
   "id": "3b290602",
   "metadata": {},
   "source": [
    "There are also convenience functions for things like Identity matrices."
   ]
  },
  {
   "cell_type": "code",
   "execution_count": 8,
   "id": "cf02c02e",
   "metadata": {},
   "outputs": [
    {
     "data": {
      "text/plain": [
       "[1   0   0   0]\n",
       "[0   1   0   0]\n",
       "[0   0   1   0]\n",
       "[0   0   0   1]"
      ]
     },
     "execution_count": 8,
     "metadata": {},
     "output_type": "execute_result"
    }
   ],
   "source": [
    "Iz = identity_matrix(ZZ, 4)"
   ]
  },
  {
   "cell_type": "code",
   "execution_count": 9,
   "id": "89bab643",
   "metadata": {},
   "outputs": [
    {
     "data": {
      "text/plain": [
       "[1   0   0   0]\n",
       "[0   1   0   0]\n",
       "[0   0   1   0]\n",
       "[0   0   0   1]"
      ]
     },
     "execution_count": 9,
     "metadata": {},
     "output_type": "execute_result"
    }
   ],
   "source": [
    "Iq = identity_matrix(QQ, 4)"
   ]
  },
  {
   "cell_type": "markdown",
   "id": "45d05609",
   "metadata": {},
   "source": [
    "If you define a finite field, say $F_9$, you can have an identity matrix with entries in $F_9$ too"
   ]
  },
  {
   "cell_type": "code",
   "execution_count": 10,
   "id": "f61e3acf",
   "metadata": {},
   "outputs": [
    {
     "data": {
      "text/plain": [
       "[1   0   0   0]\n",
       "[0   1   0   0]\n",
       "[0   0   1   0]\n",
       "[0   0   0   1]"
      ]
     },
     "execution_count": 10,
     "metadata": {},
     "output_type": "execute_result"
    }
   ],
   "source": [
    "F, a = finite_field(9, \"a\")\n",
    "If = identity_matrix(F, 4)"
   ]
  },
  {
   "cell_type": "markdown",
   "id": "f9f7b4c6",
   "metadata": {},
   "source": [
    "We also have a convenience function for zero matrices"
   ]
  },
  {
   "cell_type": "code",
   "execution_count": 11,
   "id": "6c783460",
   "metadata": {},
   "outputs": [
    {
     "data": {
      "text/plain": [
       "[0   0   0   0   0]\n",
       "[0   0   0   0   0]\n",
       "[0   0   0   0   0]\n",
       "[0   0   0   0   0]"
      ]
     },
     "execution_count": 11,
     "metadata": {},
     "output_type": "execute_result"
    }
   ],
   "source": [
    "zero_matrix(ZZ, 4, 5)"
   ]
  },
  {
   "cell_type": "markdown",
   "id": "10247cf5-754b-49d3-99e3-8f3fa080a53e",
   "metadata": {},
   "source": [
    "## 2 Solving Linear Equation Systems"
   ]
  },
  {
   "cell_type": "markdown",
   "id": "e162d816-146f-4e3a-ac18-ecbbd148bfed",
   "metadata": {},
   "source": [
    "Let us solve the following system of linear equations in $\\texttt{OSCAR}$ over $\\mathbb{Q}$:\n",
    "\n",
    "$$ \\left[ \\begin{array}{ccc} 1 & 2 & 3 \\\\ 2 & 4 & 6 \\end{array} \\right] \\cdot v = \\left[ \\begin{array}{c} -5 \\\\ -10 \\end{array} \\right] $$"
   ]
  },
  {
   "cell_type": "code",
   "execution_count": 12,
   "id": "918acee1-185a-4c29-ae25-01b2389ad301",
   "metadata": {},
   "outputs": [
    {
     "data": {
      "text/plain": [
       "[1   2   3]\n",
       "[2   4   6]"
      ]
     },
     "execution_count": 12,
     "metadata": {},
     "output_type": "execute_result"
    }
   ],
   "source": [
    "m = matrix(QQ, [[1,2,3], [2,4,6]])"
   ]
  },
  {
   "cell_type": "code",
   "execution_count": 13,
   "id": "65539514-0655-401a-a74b-d568eb6babc8",
   "metadata": {},
   "outputs": [
    {
     "data": {
      "text/plain": [
       "[ -5]\n",
       "[-10]"
      ]
     },
     "execution_count": 13,
     "metadata": {},
     "output_type": "execute_result"
    }
   ],
   "source": [
    "b = matrix(QQ, [[-5], [-10]])"
   ]
  },
  {
   "cell_type": "code",
   "execution_count": 14,
   "id": "43aad064-ec7d-4698-8cc5-79a98c97556c",
   "metadata": {},
   "outputs": [
    {
     "data": {
      "text/plain": [
       "[-5]\n",
       "[ 0]\n",
       "[ 0]"
      ]
     },
     "execution_count": 14,
     "metadata": {},
     "output_type": "execute_result"
    }
   ],
   "source": [
    "solve(m, b, side = :right)"
   ]
  },
  {
   "cell_type": "markdown",
   "id": "66e5e5f4-6a13-45f4-9f77-514acc643dea",
   "metadata": {},
   "source": [
    "But of course, this is merely a single solution. To obtain all solutions, we need to add the nullspace."
   ]
  },
  {
   "cell_type": "code",
   "execution_count": 15,
   "id": "de00d595-ac21-4eed-b12a-c8376dcf65bc",
   "metadata": {},
   "outputs": [
    {
     "data": {
      "text/plain": [
       "(2, [-2 -3; 1 0; 0 1])"
      ]
     },
     "execution_count": 15,
     "metadata": {},
     "output_type": "execute_result"
    }
   ],
   "source": [
    "nullspace(m)"
   ]
  },
  {
   "cell_type": "markdown",
   "id": "fec2e189-3301-4a3b-a183-2b962a214188",
   "metadata": {},
   "source": [
    "The first return value is the dimension of the nullspace, and the second is a basis of the nullspace."
   ]
  },
  {
   "cell_type": "code",
   "execution_count": 16,
   "id": "e8dc5823-2d18-495b-ba4e-c29876321d8e",
   "metadata": {},
   "outputs": [
    {
     "data": {
      "text/plain": [
       "[-2   -3]\n",
       "[ 1    0]\n",
       "[ 0    1]"
      ]
     },
     "execution_count": 16,
     "metadata": {},
     "output_type": "execute_result"
    }
   ],
   "source": [
    "nullspace(m)[2]"
   ]
  },
  {
   "cell_type": "markdown",
   "id": "ec646285-2e57-403d-8a14-4244c62eeb41",
   "metadata": {},
   "source": [
    "## 3 Eigenvalues and Eigenspaces"
   ]
  },
  {
   "cell_type": "markdown",
   "id": "6f2590b8",
   "metadata": {},
   "source": [
    "In this section, we demonstrate how to find eigenvalues, and eigenspaces of a diagonalizable matrix.\n",
    "For simplicity, we focus on the case of a matrix that is diagonalizable over $\\mathbb{Q}$"
   ]
  },
  {
   "cell_type": "code",
   "execution_count": 17,
   "id": "c95fd646-96b3-4f68-aaa2-b6e1b7adfbbd",
   "metadata": {},
   "outputs": [
    {
     "data": {
      "text/plain": [
       "[-16   -28   -19]\n",
       "[ 42    69    46]\n",
       "[-42   -72   -49]"
      ]
     },
     "execution_count": 17,
     "metadata": {},
     "output_type": "execute_result"
    }
   ],
   "source": [
    "M = matrix(QQ, [[-16, -28, -19], [42, 69, 46], [-42, -72, -49]])"
   ]
  },
  {
   "cell_type": "code",
   "execution_count": 18,
   "id": "7c4e5a1e",
   "metadata": {},
   "outputs": [
    {
     "data": {
      "text/plain": [
       "-30"
      ]
     },
     "execution_count": 18,
     "metadata": {},
     "output_type": "execute_result"
    }
   ],
   "source": [
    "det(M)"
   ]
  },
  {
   "cell_type": "code",
   "execution_count": 19,
   "id": "76a59b2d",
   "metadata": {},
   "outputs": [
    {
     "data": {
      "text/plain": [
       "x^3 - 4*x^2 - 11*x + 30"
      ]
     },
     "execution_count": 19,
     "metadata": {},
     "output_type": "execute_result"
    }
   ],
   "source": [
    "characteristic_polynomial(M)"
   ]
  },
  {
   "cell_type": "code",
   "execution_count": 20,
   "id": "81117589",
   "metadata": {
    "scrolled": true
   },
   "outputs": [
    {
     "data": {
      "text/plain": [
       "3-element Vector{QQBarFieldElem}:\n",
       " Root 5.00000 of x - 5\n",
       " Root 2.00000 of x - 2\n",
       " Root -3.00000 of x + 3"
      ]
     },
     "execution_count": 20,
     "metadata": {},
     "output_type": "execute_result"
    }
   ],
   "source": [
    "eigenvalues(QQBarField(), M)"
   ]
  },
  {
   "cell_type": "code",
   "execution_count": 21,
   "id": "9a128e7d",
   "metadata": {},
   "outputs": [
    {
     "data": {
      "text/plain": [
       "[2   2   1]\n",
       "[7   4   1]\n",
       "[0   1   1]"
      ]
     },
     "execution_count": 21,
     "metadata": {},
     "output_type": "execute_result"
    }
   ],
   "source": [
    "A = vcat([eigenspace(M, QQ(5)), eigenspace(M, QQ(2)), eigenspace(M, QQ(-3))]...)"
   ]
  },
  {
   "cell_type": "code",
   "execution_count": 22,
   "id": "8996201c",
   "metadata": {},
   "outputs": [
    {
     "data": {
      "text/plain": [
       "[5   0    0]\n",
       "[0   2    0]\n",
       "[0   0   -3]"
      ]
     },
     "execution_count": 22,
     "metadata": {},
     "output_type": "execute_result"
    }
   ],
   "source": [
    "D = diagonal_matrix(QQ, [5, 2, -3])"
   ]
  },
  {
   "cell_type": "code",
   "execution_count": 23,
   "id": "c3eda6b1",
   "metadata": {},
   "outputs": [
    {
     "data": {
      "text/plain": [
       "true"
      ]
     },
     "execution_count": 23,
     "metadata": {},
     "output_type": "execute_result"
    }
   ],
   "source": [
    "(inv(A) * D * A) == M"
   ]
  },
  {
   "cell_type": "markdown",
   "id": "b3f96ebf-cf37-4619-b733-97dcae562bbd",
   "metadata": {},
   "source": [
    "## 4 Normalforms"
   ]
  },
  {
   "cell_type": "markdown",
   "id": "996773d4",
   "metadata": {},
   "source": [
    "There are many many normal forms, we demonstrate how to compute the Smith and the Hermite normal form"
   ]
  },
  {
   "cell_type": "markdown",
   "id": "9077ae42",
   "metadata": {},
   "source": [
    "### 4.1 Smith Normal Form"
   ]
  },
  {
   "cell_type": "code",
   "execution_count": 24,
   "id": "e7932e72-6e54-4b90-aeb9-5b957e160775",
   "metadata": {},
   "outputs": [
    {
     "data": {
      "text/plain": [
       "[-16   -28   -19]\n",
       "[ 42    69    46]\n",
       "[-42   -72   -49]"
      ]
     },
     "execution_count": 24,
     "metadata": {},
     "output_type": "execute_result"
    }
   ],
   "source": [
    "M"
   ]
  },
  {
   "cell_type": "code",
   "execution_count": 25,
   "id": "78b29ecd-7954-40b9-b7cc-c1b5e965f509",
   "metadata": {},
   "outputs": [
    {
     "data": {
      "text/plain": [
       "[1   0   0]\n",
       "[0   1   0]\n",
       "[0   0   1]"
      ]
     },
     "execution_count": 25,
     "metadata": {},
     "output_type": "execute_result"
    }
   ],
   "source": [
    "snf(M)"
   ]
  },
  {
   "cell_type": "code",
   "execution_count": 26,
   "id": "ab4cd49e-9d3a-4937-9bce-cf8db8d8e5d4",
   "metadata": {},
   "outputs": [
    {
     "data": {
      "text/plain": [
       "([1 0 0; 0 1 0; 0 0 1], [1 0 0; 21//80 -7//240 -31//240; 21//5 -4//5 -12//5], [-1//16 28 -19//16; 0 -16 0; 0 0 1])"
      ]
     },
     "execution_count": 26,
     "metadata": {},
     "output_type": "execute_result"
    }
   ],
   "source": [
    "S, T, U = snf_with_transform(M)"
   ]
  },
  {
   "cell_type": "code",
   "execution_count": 27,
   "id": "2b9996cb",
   "metadata": {},
   "outputs": [
    {
     "data": {
      "text/plain": [
       "true"
      ]
     },
     "execution_count": 27,
     "metadata": {},
     "output_type": "execute_result"
    }
   ],
   "source": [
    "M == inv(T) * S * inv(U)"
   ]
  },
  {
   "cell_type": "markdown",
   "id": "85fc7fa1",
   "metadata": {},
   "source": [
    "### 4.2 Hermite Normal Form"
   ]
  },
  {
   "cell_type": "code",
   "execution_count": 28,
   "id": "78cc6637",
   "metadata": {},
   "outputs": [
    {
     "data": {
      "text/plain": [
       "[-16   -28   -19]\n",
       "[ 42    69    46]\n",
       "[-42   -72   -49]"
      ]
     },
     "execution_count": 28,
     "metadata": {},
     "output_type": "execute_result"
    }
   ],
   "source": [
    "M"
   ]
  },
  {
   "cell_type": "code",
   "execution_count": 29,
   "id": "f22df779",
   "metadata": {},
   "outputs": [
    {
     "data": {
      "text/plain": [
       "[1   0   0]\n",
       "[0   1   0]\n",
       "[0   0   1]"
      ]
     },
     "execution_count": 29,
     "metadata": {},
     "output_type": "execute_result"
    }
   ],
   "source": [
    "hnf(M)"
   ]
  },
  {
   "cell_type": "code",
   "execution_count": 30,
   "id": "616d7f2b",
   "metadata": {},
   "outputs": [
    {
     "data": {
      "text/plain": [
       "([1 0 0; 0 1 0; 0 0 1], [23//10 2//15 -23//30; -21//5 7//15 31//15; 21//5 -4//5 -12//5])"
      ]
     },
     "execution_count": 30,
     "metadata": {},
     "output_type": "execute_result"
    }
   ],
   "source": [
    "H, U = hnf_with_transform(M)"
   ]
  },
  {
   "cell_type": "code",
   "execution_count": 31,
   "id": "e65ae9e9",
   "metadata": {},
   "outputs": [
    {
     "data": {
      "text/plain": [
       "true"
      ]
     },
     "execution_count": 31,
     "metadata": {},
     "output_type": "execute_result"
    }
   ],
   "source": [
    "M == inv(U) * H"
   ]
  },
  {
   "cell_type": "markdown",
   "id": "3977e5b5",
   "metadata": {},
   "source": [
    "## 5 Vector"
   ]
  },
  {
   "cell_type": "code",
   "execution_count": 40,
   "id": "8a10a045",
   "metadata": {},
   "outputs": [
    {
     "data": {
      "text/plain": [
       "[1   2   3]\n",
       "[4   5   6]"
      ]
     },
     "execution_count": 40,
     "metadata": {},
     "output_type": "execute_result"
    }
   ],
   "source": [
    "M = matrix(QQ, [[1,2,3], [4,5,6]])"
   ]
  },
  {
   "cell_type": "code",
   "execution_count": 64,
   "id": "ccfd32e5",
   "metadata": {},
   "outputs": [
    {
     "data": {
      "text/plain": [
       "[1]\n",
       "[2]\n",
       "[3]"
      ]
     },
     "execution_count": 64,
     "metadata": {},
     "output_type": "execute_result"
    }
   ],
   "source": [
    "row = matrix(M[1,:])"
   ]
  },
  {
   "cell_type": "code",
   "execution_count": 65,
   "id": "cb05e7f2",
   "metadata": {},
   "outputs": [
    {
     "data": {
      "text/plain": [
       "[1   4]"
      ]
     },
     "execution_count": 65,
     "metadata": {},
     "output_type": "execute_result"
    }
   ],
   "source": [
    "col = transpose(matrix(M[:,1]))"
   ]
  },
  {
   "cell_type": "code",
   "execution_count": 66,
   "id": "c672ff78",
   "metadata": {},
   "outputs": [
    {
     "data": {
      "text/plain": [
       "[17   22   27]"
      ]
     },
     "execution_count": 66,
     "metadata": {},
     "output_type": "execute_result"
    }
   ],
   "source": [
    "col * M"
   ]
  },
  {
   "cell_type": "code",
   "execution_count": 67,
   "id": "0b9e8fcb",
   "metadata": {},
   "outputs": [
    {
     "data": {
      "text/plain": [
       "[14]\n",
       "[32]"
      ]
     },
     "execution_count": 67,
     "metadata": {},
     "output_type": "execute_result"
    }
   ],
   "source": [
    "M * row"
   ]
  },
  {
   "cell_type": "code",
   "execution_count": 73,
   "id": "e5195f5e",
   "metadata": {},
   "outputs": [
    {
     "data": {
      "text/plain": [
       "\u001b[33m\u001b[1mTest Broken\u001b[22m\u001b[39m\n",
       "  Expression: row * M"
      ]
     },
     "execution_count": 73,
     "metadata": {},
     "output_type": "execute_result"
    }
   ],
   "source": [
    "@test_broken row * M"
   ]
  },
  {
   "cell_type": "code",
   "execution_count": null,
   "id": "f8351805",
   "metadata": {},
   "outputs": [],
   "source": []
  }
 ],
 "metadata": {
  "kernelspec": {
   "display_name": "Julia 1.10.4",
   "language": "julia",
   "name": "julia-1.10"
  },
  "language_info": {
   "file_extension": ".jl",
   "mimetype": "application/julia",
   "name": "julia",
   "version": "1.10.4"
  }
 },
 "nbformat": 4,
 "nbformat_minor": 5
}
