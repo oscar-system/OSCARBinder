{
 "cells": [
  {
   "cell_type": "markdown",
   "id": "1181aec5-bf82-4eb3-87bf-40870ebe0436",
   "metadata": {},
   "source": [
    "# Linear Algebra in OSCAR\n",
    "\n",
    "* Authors: Martin Bies, Aaruni Kaushik\n",
    "* Version: OSCAR version 1.2.2 or newer."
   ]
  },
  {
   "cell_type": "markdown",
   "id": "7ef27d98-c6c2-4920-a80b-996a1f740fc5",
   "metadata": {},
   "source": [
    "## Introduction\n",
    "\n",
    "This tutorial provides an introduction to linear algebra in *OSCAR*. It highlights key functionalities through examples, making it easier for users to get started. However, this tutorial does not cover all available functionality. Instead, we focus on a selection of essential functions and features. For a more comprehensive guide, see the official documentation [here](https://docs.oscar-system.org/stable/LinearAlgebra/intro/).\n",
    "\n",
    "No prior knowledge of *OSCAR* is required for this tutorial, but a basic understanding of Julia is assumed.\n",
    "\n",
    "## Contents\n",
    "\n",
    "The content of this tutorial is as follows:\n",
    "\n",
    "1. [Creating Matrices](#1-Creating-Matrices)  \n",
    "2. [Solving Linear Equation Systems](#2-Solving-Linear-Equation-Systems)  \n",
    "3. [Eigenvalues and Eigenspaces](#3-Eigenvalues-and-Eigenspaces)  \n",
    "4. [Normal Forms](#4-Normal-Forms)  \n",
    "5. [Vectors](#5-Vectors)  \n",
    "6. [Matrix Spaces](#6-Matrix-Spaces)  \n"
   ]
  },
  {
   "cell_type": "code",
   "execution_count": 1,
   "id": "bd3322fa",
   "metadata": {},
   "outputs": [],
   "source": [
    "using Oscar"
   ]
  },
  {
   "cell_type": "code",
   "execution_count": 2,
   "id": "cddc1590",
   "metadata": {},
   "outputs": [
    {
     "name": "stdout",
     "output_type": "stream",
     "text": [
      "OSCAR version 1.2.2\n",
      "  combining:\n",
      "    AbstractAlgebra.jl   v0.44.4\n",
      "    GAP.jl               v0.13.0\n",
      "    Hecke.jl             v0.35.8\n",
      "    Nemo.jl              v0.48.1\n",
      "    Polymake.jl          v0.11.24\n",
      "    Singular.jl          v0.24.1\n"
     ]
    }
   ],
   "source": [
    "Oscar.versioninfo()"
   ]
  },
  {
   "cell_type": "markdown",
   "id": "c1b3246b",
   "metadata": {},
   "source": [
    "## 1 Creating Matrices"
   ]
  },
  {
   "cell_type": "markdown",
   "id": "49ec5cc7-e1fb-4b90-a9c0-1f791cd63a92",
   "metadata": {},
   "source": [
    "*Oscar* has its own type of matrix, independent of Julia's in-built matrices. This is due to technical limitations in Julia. Specifically, every matrix in *OSCAR* has a unique coefficient ring assigned to it. For a Julia matrix, this is not possible. Also, types (even with parameters) are not suitable for this purpose. For details, see https://docs.oscar-system.org/stable/AbstractAlgebra/matrix_algebras/#Basic-matrix-functionality. For conversion of the \"normal\" julia matrices into *OSCAR* matrices, see for instance https://docs.oscar-system.org/stable/AbstractAlgebra/matrix/#Conversion-to-Julia-matrices,-iteration-and-broacasting.\n",
    "\n",
    "*Oscar* matrices are typically created with the (*Oscar*) function `matrix` with a small \"m\"; whereas Julia's built-in matrices have types written `Matrix{...}` with a big \"M\". In conclusion, use `matrix` with small \"m\" within *OSCAR*.\n",
    "\n",
    "There are many ways to create matrices in *OSCAR*. We will now demonstrate a few. Let us emphasize again, that in the *OSCAR* matrix constructors, we must specify the coefficient ring."
   ]
  },
  {
   "cell_type": "code",
   "execution_count": 3,
   "id": "b734cc21-664d-4f40-b932-151cae872dd0",
   "metadata": {},
   "outputs": [
    {
     "data": {
      "text/plain": [
       "[1   2   3]\n",
       "[4   5   6]"
      ]
     },
     "execution_count": 3,
     "metadata": {},
     "output_type": "execute_result"
    }
   ],
   "source": [
    "m = matrix(ZZ, [1 2 3 ; 4 5 6])"
   ]
  },
  {
   "cell_type": "markdown",
   "id": "3d10d66d-0625-4a70-99ed-c1904205f9b3",
   "metadata": {},
   "source": [
    "Note that the above secretly creates a Julia matrix and then turns it into an *OSCAR* matrix over the ring $ZZ$. This is the julia-ish way of creating such matrices.\n",
    "\n",
    "However, in practical applications, you might find this syntax not very human-readable. Eyeball the following:"
   ]
  },
  {
   "cell_type": "code",
   "execution_count": 4,
   "id": "f989a4f8-1fad-48d7-a096-1b862f0698e9",
   "metadata": {},
   "outputs": [
    {
     "data": {
      "text/plain": [
       "[    x^2   -x - 1]\n",
       "[x^2 - x       -1]"
      ]
     },
     "execution_count": 4,
     "metadata": {},
     "output_type": "execute_result"
    }
   ],
   "source": [
    "R, x = polynomial_ring(ZZ, :x)\n",
    "matrix(R, [x^2 -x-1; x^2-x -1])"
   ]
  },
  {
   "cell_type": "markdown",
   "id": "840c9985-7d3f-4c98-8f0f-8778e1ee972d",
   "metadata": {},
   "source": [
    "Here are alternatives to create the above matrix $m$, but such that the syntax is readable even in involved settings such as polynomial entries:"
   ]
  },
  {
   "cell_type": "code",
   "execution_count": 5,
   "id": "01163c0b-62a7-41ac-b966-80099d854650",
   "metadata": {},
   "outputs": [
    {
     "data": {
      "text/plain": [
       "[1   2   3]\n",
       "[4   5   6]"
      ]
     },
     "execution_count": 5,
     "metadata": {},
     "output_type": "execute_result"
    }
   ],
   "source": [
    "m = matrix(ZZ, [[1,2,3], [4,5,6]])\n",
    "m = matrix(ZZ, 2,3, [1,2,3,4,5,6])"
   ]
  },
  {
   "cell_type": "markdown",
   "id": "d9f67081-93ab-4818-961f-38ee084b4cf8",
   "metadata": {},
   "source": [
    "We can create a matrix with the same coefficients, but defined over the field of rational numbers:"
   ]
  },
  {
   "cell_type": "code",
   "execution_count": 6,
   "id": "e21a6c44-9fe0-4330-9b73-9cd175093885",
   "metadata": {},
   "outputs": [
    {
     "data": {
      "text/plain": [
       "[1   2   3]\n",
       "[4   5   6]"
      ]
     },
     "execution_count": 6,
     "metadata": {},
     "output_type": "execute_result"
    }
   ],
   "source": [
    "m2 = matrix(QQ, [1 2 3; 4 5 6])"
   ]
  },
  {
   "cell_type": "markdown",
   "id": "dfe5d96a-7462-4f7f-9a6c-d2b4b6f9f1fe",
   "metadata": {},
   "source": [
    "Note that these two matrices print the same but they have different types."
   ]
  },
  {
   "cell_type": "code",
   "execution_count": 7,
   "id": "1306507b-f9d7-493f-a0da-4365b3ec47e4",
   "metadata": {},
   "outputs": [
    {
     "data": {
      "text/plain": [
       "ZZMatrix"
      ]
     },
     "execution_count": 7,
     "metadata": {},
     "output_type": "execute_result"
    }
   ],
   "source": [
    "typeof(m)"
   ]
  },
  {
   "cell_type": "code",
   "execution_count": 8,
   "id": "a7e98352-3e62-47fb-a607-1e5bb1da12e1",
   "metadata": {},
   "outputs": [
    {
     "data": {
      "text/plain": [
       "QQMatrix"
      ]
     },
     "execution_count": 8,
     "metadata": {},
     "output_type": "execute_result"
    }
   ],
   "source": [
    "typeof(m2)"
   ]
  },
  {
   "cell_type": "markdown",
   "id": "c0496c95-b5b7-4fe9-9cce-8ef45300b67f",
   "metadata": {},
   "source": [
    "Despite these matrices being defined over different coefficient rings, we can (for instance) add them:"
   ]
  },
  {
   "cell_type": "code",
   "execution_count": 9,
   "id": "d7eceabc-9340-4270-be44-388121054e8c",
   "metadata": {},
   "outputs": [
    {
     "data": {
      "text/plain": [
       "[2    4    6]\n",
       "[8   10   12]"
      ]
     },
     "execution_count": 9,
     "metadata": {},
     "output_type": "execute_result"
    }
   ],
   "source": [
    "m+m2"
   ]
  },
  {
   "cell_type": "code",
   "execution_count": 10,
   "id": "448a88b9-5c55-472b-b057-c5f996fae7e7",
   "metadata": {},
   "outputs": [
    {
     "data": {
      "text/plain": [
       "Rational field"
      ]
     },
     "execution_count": 10,
     "metadata": {},
     "output_type": "execute_result"
    }
   ],
   "source": [
    "base_ring(ans)"
   ]
  },
  {
   "cell_type": "markdown",
   "id": "93e5db61-a483-4d98-9f68-8fd4e397c9d3",
   "metadata": {},
   "source": [
    "You will likely not use the function base_ring too often. Still, it can be rather useful in order to identify over which ring a matrix is defined, for instance when (trying to) add or compare two matrices.\n",
    "\n",
    "In the case at hand, just as addition was possible above, so is comparison:"
   ]
  },
  {
   "cell_type": "code",
   "execution_count": 11,
   "id": "b12ca3e4-0c2c-454c-b36b-cf8d43c03d5b",
   "metadata": {},
   "outputs": [
    {
     "data": {
      "text/plain": [
       "true"
      ]
     },
     "execution_count": 11,
     "metadata": {},
     "output_type": "execute_result"
    }
   ],
   "source": [
    "m == m2"
   ]
  },
  {
   "cell_type": "markdown",
   "id": "f767911d-c786-456f-af1b-6c2475622172",
   "metadata": {},
   "source": [
    "This fails for other coefficient rings. As an example, let us consider the following matrices:"
   ]
  },
  {
   "cell_type": "code",
   "execution_count": 12,
   "id": "e38e297f-592c-4032-93d2-e6b11d023d30",
   "metadata": {},
   "outputs": [
    {
     "data": {
      "text/plain": [
       "[1   0   0   0]\n",
       "[0   1   0   0]\n",
       "[0   0   1   0]\n",
       "[0   0   0   1]"
      ]
     },
     "execution_count": 12,
     "metadata": {},
     "output_type": "execute_result"
    }
   ],
   "source": [
    "F9, a = finite_field(9, \"a\")\n",
    "I_f9 = identity_matrix(F9, 4)"
   ]
  },
  {
   "cell_type": "code",
   "execution_count": 13,
   "id": "35a7d3d8-5bf2-4a5e-9a53-42187df5d75c",
   "metadata": {},
   "outputs": [
    {
     "data": {
      "text/plain": [
       "[1   0   0   0]\n",
       "[0   1   0   0]\n",
       "[0   0   1   0]\n",
       "[0   0   0   1]"
      ]
     },
     "execution_count": 13,
     "metadata": {},
     "output_type": "execute_result"
    }
   ],
   "source": [
    "I_zz = identity_matrix(ZZ, 4)"
   ]
  },
  {
   "cell_type": "code",
   "execution_count": 14,
   "id": "42ff4f7f-0ac6-4f30-944b-fe1ffda74038",
   "metadata": {},
   "outputs": [
    {
     "data": {
      "text/plain": [
       "[1   0   0   0]\n",
       "[0   1   0   0]\n",
       "[0   0   1   0]\n",
       "[0   0   0   1]"
      ]
     },
     "execution_count": 14,
     "metadata": {},
     "output_type": "execute_result"
    }
   ],
   "source": [
    "I_qq = identity_matrix(QQ, 4)"
   ]
  },
  {
   "cell_type": "markdown",
   "id": "3b290602",
   "metadata": {},
   "source": [
    "Note that we used a convenience function to create these identity matrices. More such functionality does exist, see e.g. https://docs.oscar-system.org/stable/AbstractAlgebra/matrix/#Basic-matrix-functionality. Here is another example use of such a convenience function:"
   ]
  },
  {
   "cell_type": "code",
   "execution_count": 15,
   "id": "7000f6ee-a6d2-427f-a36e-cc54e67325fe",
   "metadata": {},
   "outputs": [
    {
     "data": {
      "text/plain": [
       "[0   0   0   0   0]\n",
       "[0   0   0   0   0]\n",
       "[0   0   0   0   0]\n",
       "[0   0   0   0   0]"
      ]
     },
     "execution_count": 15,
     "metadata": {},
     "output_type": "execute_result"
    }
   ],
   "source": [
    "zero_matrix(ZZ, 4, 5)"
   ]
  },
  {
   "cell_type": "markdown",
   "id": "ca818c24-c965-4041-b295-6668d5482ef1",
   "metadata": {},
   "source": [
    "Let us now return to our matrices $I_{zz}$, $I_{qq}$ and $I_{f9}$. Those are defined over different coefficient rings. While they print the same, not all pairs of them can be compared:"
   ]
  },
  {
   "cell_type": "code",
   "execution_count": 16,
   "id": "cf02c02e",
   "metadata": {},
   "outputs": [
    {
     "data": {
      "text/plain": [
       "true"
      ]
     },
     "execution_count": 16,
     "metadata": {},
     "output_type": "execute_result"
    }
   ],
   "source": [
    "I_zz == I_qq"
   ]
  },
  {
   "cell_type": "markdown",
   "id": "df86b2dc-c0df-4688-b235-615953475ac6",
   "metadata": {},
   "source": [
    "In general, elements of different rings may not be compared nor combined. This extends to matrices defined over different coefficients rings.\n",
    "\n",
    "However, if there is a unique embedding of one ring into the other, then *OSCAR* will do this for us automatically. Thereby, sometimes matrices over different rings can be compared, and sometimes not. In the case at hand, $I_{f9}$ and $I_{qq}$ cannot be compared, but $I_{zz}$ and $I_{f9}$ can:"
   ]
  },
  {
   "cell_type": "code",
   "execution_count": 17,
   "id": "89bab643",
   "metadata": {},
   "outputs": [
    {
     "data": {
      "text/plain": [
       "true"
      ]
     },
     "execution_count": 17,
     "metadata": {},
     "output_type": "execute_result"
    }
   ],
   "source": [
    "I_zz == I_f9"
   ]
  },
  {
   "cell_type": "markdown",
   "id": "10247cf5-754b-49d3-99e3-8f3fa080a53e",
   "metadata": {},
   "source": [
    "## 2 Solving Linear Equation Systems"
   ]
  },
  {
   "cell_type": "markdown",
   "id": "e162d816-146f-4e3a-ac18-ecbbd148bfed",
   "metadata": {},
   "source": [
    "Let us solve the following system of linear equations in $\\texttt{OSCAR}$ over $\\mathbb{Q}$:\n",
    "\n",
    "$$ \\left[ \\begin{array}{ccc} 1 & 2 & 3 \\\\ 2 & 4 & 6 \\end{array} \\right] \\cdot v = \\left[ \\begin{array}{c} -5 \\\\ -10 \\end{array} \\right] $$"
   ]
  },
  {
   "cell_type": "code",
   "execution_count": 18,
   "id": "918acee1-185a-4c29-ae25-01b2389ad301",
   "metadata": {},
   "outputs": [
    {
     "data": {
      "text/plain": [
       "[1   2   3]\n",
       "[2   4   6]"
      ]
     },
     "execution_count": 18,
     "metadata": {},
     "output_type": "execute_result"
    }
   ],
   "source": [
    "m = matrix(QQ, [[1,2,3], [2,4,6]])"
   ]
  },
  {
   "cell_type": "code",
   "execution_count": 19,
   "id": "65539514-0655-401a-a74b-d568eb6babc8",
   "metadata": {},
   "outputs": [
    {
     "data": {
      "text/plain": [
       "[ -5]\n",
       "[-10]"
      ]
     },
     "execution_count": 19,
     "metadata": {},
     "output_type": "execute_result"
    }
   ],
   "source": [
    "b = matrix(QQ, [[-5], [-10]])"
   ]
  },
  {
   "cell_type": "code",
   "execution_count": 20,
   "id": "43aad064-ec7d-4698-8cc5-79a98c97556c",
   "metadata": {},
   "outputs": [
    {
     "data": {
      "text/plain": [
       "[-5]\n",
       "[ 0]\n",
       "[ 0]"
      ]
     },
     "execution_count": 20,
     "metadata": {},
     "output_type": "execute_result"
    }
   ],
   "source": [
    "solve(m, b; side = :right)"
   ]
  },
  {
   "cell_type": "markdown",
   "id": "02e2a653-8b68-4bb0-adf4-543b582f0082",
   "metadata": {},
   "source": [
    "Side comment: The semicolon separates the mandatory arguments in the beginning from optional keyword argument."
   ]
  },
  {
   "cell_type": "markdown",
   "id": "66e5e5f4-6a13-45f4-9f77-514acc643dea",
   "metadata": {},
   "source": [
    "But of course, this is merely a single solution. To obtain all solutions, we need to add the nullspace."
   ]
  },
  {
   "cell_type": "code",
   "execution_count": 21,
   "id": "de00d595-ac21-4eed-b12a-c8376dcf65bc",
   "metadata": {},
   "outputs": [
    {
     "data": {
      "text/plain": [
       "(2, [-2 -3; 1 0; 0 1])"
      ]
     },
     "execution_count": 21,
     "metadata": {},
     "output_type": "execute_result"
    }
   ],
   "source": [
    "d, nb = nullspace(m)"
   ]
  },
  {
   "cell_type": "markdown",
   "id": "fec2e189-3301-4a3b-a183-2b962a214188",
   "metadata": {},
   "source": [
    "The first return value is the dimension of the nullspace, and the second is a basis of the nullspace."
   ]
  },
  {
   "cell_type": "code",
   "execution_count": 22,
   "id": "e8dc5823-2d18-495b-ba4e-c29876321d8e",
   "metadata": {},
   "outputs": [
    {
     "data": {
      "text/plain": [
       "[-2   -3]\n",
       "[ 1    0]\n",
       "[ 0    1]"
      ]
     },
     "execution_count": 22,
     "metadata": {},
     "output_type": "execute_result"
    }
   ],
   "source": [
    "nb"
   ]
  },
  {
   "cell_type": "markdown",
   "id": "4d873740-e9f4-4e3a-8b1e-3aac309a1bd8",
   "metadata": {},
   "source": [
    "Additional information is available in the *OSCAR* documentation. See for instance:\n",
    "* https://docs.oscar-system.org/stable/AbstractAlgebra/linear_solving/#solving_chapter.\n",
    "* https://docs.oscar-system.org/stable/AbstractAlgebra/matrix/#nullspace-Union{Tuple{MatElem{T}},%20Tuple{T}}%20where%20T%3C:FieldElem"
   ]
  },
  {
   "cell_type": "markdown",
   "id": "ec646285-2e57-403d-8a14-4244c62eeb41",
   "metadata": {},
   "source": [
    "## 3 Eigenvalues and Eigenspaces"
   ]
  },
  {
   "cell_type": "markdown",
   "id": "6f2590b8",
   "metadata": {},
   "source": [
    "In this section, we demonstrate how to find eigenvalues, and eigenspaces of a diagonalizable matrix.\n",
    "For simplicity, we focus on the case of a matrix that is diagonalizable over $\\mathbb{Q}$"
   ]
  },
  {
   "cell_type": "code",
   "execution_count": 23,
   "id": "c95fd646-96b3-4f68-aaa2-b6e1b7adfbbd",
   "metadata": {},
   "outputs": [
    {
     "data": {
      "text/plain": [
       "[-16   -28   -19]\n",
       "[ 42    69    46]\n",
       "[-42   -72   -49]"
      ]
     },
     "execution_count": 23,
     "metadata": {},
     "output_type": "execute_result"
    }
   ],
   "source": [
    "M = matrix(QQ, [[-16, -28, -19], [42, 69, 46], [-42, -72, -49]])"
   ]
  },
  {
   "cell_type": "code",
   "execution_count": 24,
   "id": "7c4e5a1e",
   "metadata": {},
   "outputs": [
    {
     "data": {
      "text/plain": [
       "-30"
      ]
     },
     "execution_count": 24,
     "metadata": {},
     "output_type": "execute_result"
    }
   ],
   "source": [
    "det(M)"
   ]
  },
  {
   "cell_type": "code",
   "execution_count": 25,
   "id": "76a59b2d",
   "metadata": {},
   "outputs": [
    {
     "data": {
      "text/plain": [
       "x^3 - 4*x^2 - 11*x + 30"
      ]
     },
     "execution_count": 25,
     "metadata": {},
     "output_type": "execute_result"
    }
   ],
   "source": [
    "characteristic_polynomial(M)"
   ]
  },
  {
   "cell_type": "markdown",
   "id": "b91b4c7e-8dde-46f7-8618-93088d0bb2e3",
   "metadata": {},
   "source": [
    "The eigenvalues are zeros of the characteristic polynomial. In the case above, we are working with a matrix over $\\mathbb{Q}$. Consequently, the zeros of the characteristic polynomial are elements of the field of rational numbers $\\mathbb{Q}$."
   ]
  },
  {
   "cell_type": "code",
   "execution_count": 26,
   "id": "81117589",
   "metadata": {
    "scrolled": true
   },
   "outputs": [
    {
     "data": {
      "text/plain": [
       "3-element Vector{QQFieldElem}:\n",
       " 2\n",
       " 5\n",
       " -3"
      ]
     },
     "execution_count": 26,
     "metadata": {},
     "output_type": "execute_result"
    }
   ],
   "source": [
    "eigenvalues(M)"
   ]
  },
  {
   "cell_type": "code",
   "execution_count": 27,
   "id": "aaf10093-92c6-4a18-8933-6b8efb2f0e5b",
   "metadata": {},
   "outputs": [
    {
     "data": {
      "text/plain": [
       "[7   4   1]"
      ]
     },
     "execution_count": 27,
     "metadata": {},
     "output_type": "execute_result"
    }
   ],
   "source": [
    "eigenspace(M, QQ(2))"
   ]
  },
  {
   "cell_type": "code",
   "execution_count": 28,
   "id": "9a128e7d",
   "metadata": {},
   "outputs": [
    {
     "data": {
      "text/plain": [
       "[7   4   1]\n",
       "[2   2   1]\n",
       "[0   1   1]"
      ]
     },
     "execution_count": 28,
     "metadata": {},
     "output_type": "execute_result"
    }
   ],
   "source": [
    "A = vcat([eigenspace(M, k) for k in eigenvalues(M)]...)"
   ]
  },
  {
   "cell_type": "code",
   "execution_count": 29,
   "id": "8996201c",
   "metadata": {},
   "outputs": [
    {
     "data": {
      "text/plain": [
       "[2   0    0]\n",
       "[0   5    0]\n",
       "[0   0   -3]"
      ]
     },
     "execution_count": 29,
     "metadata": {},
     "output_type": "execute_result"
    }
   ],
   "source": [
    "D = diagonal_matrix(QQ, eigenvalues(M))"
   ]
  },
  {
   "cell_type": "code",
   "execution_count": 30,
   "id": "c3eda6b1",
   "metadata": {},
   "outputs": [
    {
     "data": {
      "text/plain": [
       "true"
      ]
     },
     "execution_count": 30,
     "metadata": {},
     "output_type": "execute_result"
    }
   ],
   "source": [
    "(inv(A) * D * A) == M"
   ]
  },
  {
   "cell_type": "markdown",
   "id": "7692317a-2f87-463c-a673-ceeef9a4e290",
   "metadata": {},
   "source": [
    "For more details see e.g. https://docs.oscar-system.org/stable/Nemo/algebraic/#eigenvalues-Tuple{QQBarField,%20ZZMatrix}."
   ]
  },
  {
   "cell_type": "markdown",
   "id": "b3f96ebf-cf37-4619-b733-97dcae562bbd",
   "metadata": {},
   "source": [
    "## 4 Normal Forms"
   ]
  },
  {
   "cell_type": "markdown",
   "id": "996773d4",
   "metadata": {},
   "source": [
    "There are many many normal forms, we demonstrate how to compute the Smith and the Hermite normal form."
   ]
  },
  {
   "cell_type": "markdown",
   "id": "9077ae42",
   "metadata": {},
   "source": [
    "### 4.1 Smith Normal Form"
   ]
  },
  {
   "cell_type": "code",
   "execution_count": 31,
   "id": "e7932e72-6e54-4b90-aeb9-5b957e160775",
   "metadata": {},
   "outputs": [
    {
     "data": {
      "text/plain": [
       "[-16   -28   -19]\n",
       "[ 42    69    46]\n",
       "[-42   -72   -49]"
      ]
     },
     "execution_count": 31,
     "metadata": {},
     "output_type": "execute_result"
    }
   ],
   "source": [
    "M = matrix(ZZ, M)"
   ]
  },
  {
   "cell_type": "code",
   "execution_count": 32,
   "id": "b4a63182-1759-473d-a346-fa4c2f820361",
   "metadata": {},
   "outputs": [
    {
     "data": {
      "text/plain": [
       "Integer ring"
      ]
     },
     "execution_count": 32,
     "metadata": {},
     "output_type": "execute_result"
    }
   ],
   "source": [
    "base_ring(M)"
   ]
  },
  {
   "cell_type": "code",
   "execution_count": 33,
   "id": "78b29ecd-7954-40b9-b7cc-c1b5e965f509",
   "metadata": {},
   "outputs": [
    {
     "data": {
      "text/plain": [
       "[1   0    0]\n",
       "[0   1    0]\n",
       "[0   0   30]"
      ]
     },
     "execution_count": 33,
     "metadata": {},
     "output_type": "execute_result"
    }
   ],
   "source": [
    "snf(M)"
   ]
  },
  {
   "cell_type": "code",
   "execution_count": 34,
   "id": "ab4cd49e-9d3a-4937-9bce-cf8db8d8e5d4",
   "metadata": {},
   "outputs": [
    {
     "data": {
      "text/plain": [
       "([1 0 0; 0 1 0; 0 0 30], [13 -3 -8; -18 4 11; -69 16 43], [-2 -4 19; 1 3 -16; 0 -1 6])"
      ]
     },
     "execution_count": 34,
     "metadata": {},
     "output_type": "execute_result"
    }
   ],
   "source": [
    "S, T, U = snf_with_transform(M)"
   ]
  },
  {
   "cell_type": "code",
   "execution_count": 35,
   "id": "2b9996cb",
   "metadata": {},
   "outputs": [
    {
     "data": {
      "text/plain": [
       "true"
      ]
     },
     "execution_count": 35,
     "metadata": {},
     "output_type": "execute_result"
    }
   ],
   "source": [
    "T * M * U == S"
   ]
  },
  {
   "cell_type": "markdown",
   "id": "8f4573e2-5cc6-4dfe-8a75-eae144a19ef7",
   "metadata": {},
   "source": [
    " For more details see https://docs.oscar-system.org/stable/AbstractAlgebra/matrix/#Smith-normal-form."
   ]
  },
  {
   "cell_type": "markdown",
   "id": "85fc7fa1",
   "metadata": {},
   "source": [
    "### 4.2 Hermite Normal Form"
   ]
  },
  {
   "cell_type": "markdown",
   "id": "4ceb6784-d912-4034-bea9-ec240f25314d",
   "metadata": {},
   "source": [
    "Similarly to the above, we can also compute the Hermite normal form (HNF). Let us emphasize that *OSCAR* computes the **row** HNF."
   ]
  },
  {
   "cell_type": "code",
   "execution_count": 36,
   "id": "78cc6637",
   "metadata": {},
   "outputs": [
    {
     "data": {
      "text/plain": [
       "[-16   -28   -19]\n",
       "[ 42    69    46]\n",
       "[-42   -72   -49]"
      ]
     },
     "execution_count": 36,
     "metadata": {},
     "output_type": "execute_result"
    }
   ],
   "source": [
    "M"
   ]
  },
  {
   "cell_type": "code",
   "execution_count": 37,
   "id": "3636c51c-1815-4e36-b26f-495c8d7cc460",
   "metadata": {},
   "outputs": [
    {
     "data": {
      "text/plain": [
       "Integer ring"
      ]
     },
     "execution_count": 37,
     "metadata": {},
     "output_type": "execute_result"
    }
   ],
   "source": [
    "base_ring(M)"
   ]
  },
  {
   "cell_type": "code",
   "execution_count": 38,
   "id": "f22df779",
   "metadata": {},
   "outputs": [
    {
     "data": {
      "text/plain": [
       "[2   2   4]\n",
       "[0   3   3]\n",
       "[0   0   5]"
      ]
     },
     "execution_count": 38,
     "metadata": {},
     "output_type": "execute_result"
    }
   ],
   "source": [
    "hnf(M)"
   ]
  },
  {
   "cell_type": "code",
   "execution_count": 39,
   "id": "616d7f2b",
   "metadata": {},
   "outputs": [
    {
     "data": {
      "text/plain": [
       "([2 2 4; 0 3 3; 0 0 5], [13 -2 -7; 0 -1 -1; 21 -4 -12])"
      ]
     },
     "execution_count": 39,
     "metadata": {},
     "output_type": "execute_result"
    }
   ],
   "source": [
    "H, U = hnf_with_transform(M)"
   ]
  },
  {
   "cell_type": "code",
   "execution_count": 40,
   "id": "e65ae9e9",
   "metadata": {},
   "outputs": [
    {
     "data": {
      "text/plain": [
       "true"
      ]
     },
     "execution_count": 40,
     "metadata": {},
     "output_type": "execute_result"
    }
   ],
   "source": [
    "U * M == H"
   ]
  },
  {
   "cell_type": "markdown",
   "id": "7170b89a-58d4-4b1f-a071-6edd702ecce9",
   "metadata": {},
   "source": [
    "For more details see https://docs.oscar-system.org/stable/AbstractAlgebra/matrix/#Hermite-normal-form."
   ]
  },
  {
   "cell_type": "markdown",
   "id": "3977e5b5",
   "metadata": {},
   "source": [
    "## 5 Vectors"
   ]
  },
  {
   "cell_type": "markdown",
   "id": "12570d81-f3ca-4978-8644-00750cff479d",
   "metadata": {},
   "source": [
    "One way of creating vectors, is by extracting rows and columns of a matrix. Let us demonstrate this:"
   ]
  },
  {
   "cell_type": "code",
   "execution_count": 2,
   "id": "8a10a045",
   "metadata": {},
   "outputs": [
    {
     "data": {
      "text/plain": [
       "[1   2   3]\n",
       "[4   5   6]"
      ]
     },
     "execution_count": 2,
     "metadata": {},
     "output_type": "execute_result"
    }
   ],
   "source": [
    "M = matrix(QQ, [[1,2,3], [4,5,6]])"
   ]
  },
  {
   "cell_type": "code",
   "execution_count": 42,
   "id": "ccfd32e5",
   "metadata": {},
   "outputs": [
    {
     "data": {
      "text/plain": [
       "[1   2   3]"
      ]
     },
     "execution_count": 42,
     "metadata": {},
     "output_type": "execute_result"
    }
   ],
   "source": [
    "row = M[1:1,:]"
   ]
  },
  {
   "cell_type": "code",
   "execution_count": 43,
   "id": "4f1d1c2c-2404-43b8-800b-c1c5e9303812",
   "metadata": {},
   "outputs": [
    {
     "data": {
      "text/plain": [
       "[1]\n",
       "[4]"
      ]
     },
     "execution_count": 43,
     "metadata": {},
     "output_type": "execute_result"
    }
   ],
   "source": [
    "col = M[:,1:1]"
   ]
  },
  {
   "cell_type": "markdown",
   "id": "38607d52-08af-46a5-87e5-025c4bbb968b",
   "metadata": {},
   "source": [
    "Certainly, we can multiply the original matrix from the right with the transpose of row:"
   ]
  },
  {
   "cell_type": "code",
   "execution_count": 44,
   "id": "cb05e7f2",
   "metadata": {},
   "outputs": [
    {
     "data": {
      "text/plain": [
       "[14]\n",
       "[32]"
      ]
     },
     "execution_count": 44,
     "metadata": {},
     "output_type": "execute_result"
    }
   ],
   "source": [
    "M * transpose(row)"
   ]
  },
  {
   "cell_type": "markdown",
   "id": "e62119b6-d392-4b43-9c12-23c7104852f7",
   "metadata": {},
   "source": [
    "Likewise, we can multiply the original matrix from the left with the transpose of col:"
   ]
  },
  {
   "cell_type": "code",
   "execution_count": 45,
   "id": "c672ff78",
   "metadata": {},
   "outputs": [
    {
     "data": {
      "text/plain": [
       "[17   22   27]"
      ]
     },
     "execution_count": 45,
     "metadata": {},
     "output_type": "execute_result"
    }
   ],
   "source": [
    "transpose(col) * M"
   ]
  },
  {
   "cell_type": "markdown",
   "id": "81897ee6-16f7-443b-986b-43fc40e745ae",
   "metadata": {},
   "source": [
    "Here is an alternative way of extracting the first row, so that you can multiply it (secretly being treated as a column vector) from the right with the matrix $M$, but without having to use the method \"transpose\":"
   ]
  },
  {
   "cell_type": "code",
   "execution_count": 46,
   "id": "e5195f5e",
   "metadata": {},
   "outputs": [
    {
     "data": {
      "text/plain": [
       "3-element Vector{QQFieldElem}:\n",
       " 1\n",
       " 2\n",
       " 3"
      ]
     },
     "execution_count": 46,
     "metadata": {},
     "output_type": "execute_result"
    }
   ],
   "source": [
    "v = M[1,:]"
   ]
  },
  {
   "cell_type": "code",
   "execution_count": 47,
   "id": "ef58f980-db51-4741-b616-61a973aa05b2",
   "metadata": {},
   "outputs": [
    {
     "data": {
      "text/plain": [
       "2-element Vector{QQFieldElem}:\n",
       " 14\n",
       " 32"
      ]
     },
     "execution_count": 47,
     "metadata": {},
     "output_type": "execute_result"
    }
   ],
   "source": [
    "M*v"
   ]
  },
  {
   "cell_type": "markdown",
   "id": "23a74ae9-00d3-4565-a831-afda5b0145df",
   "metadata": {},
   "source": [
    "Do not be confused. While we extract the first row of our matrix $M$, julia prints it as a column, simply because that is the default for any list of elements (the data structure of which is called \"Vector\" in julia, to add to the confusion). Still, we extracted the first row of the matrix."
   ]
  },
  {
   "cell_type": "code",
   "execution_count": null,
   "id": "c4f36e32-c3c7-49cc-8096-d43c01cf0e8f",
   "metadata": {},
   "outputs": [],
   "source": []
  },
  {
   "cell_type": "markdown",
   "id": "44b6596c-7408-4298-bcf4-62e3bfd6b7f3",
   "metadata": {},
   "source": [
    "# 6 Matrix Spaces"
   ]
  },
  {
   "cell_type": "markdown",
   "id": "83dcc841-8d75-48e0-8d5f-0a0e9de0c679",
   "metadata": {},
   "source": [
    "Fix non-negative integers $r$, $c$ and a ring $R$. The set of all $r \\times c$ matrices defined over the coefficient ring $R$ is called a matrix space. *OSCAR* provides functionality for these spaces. For details, the interested reader may for instance wish to consult https://docs.oscar-system.org/stable/AbstractAlgebra/matrix/#Matrix-functionality.\n",
    "\n",
    "Let us give an example for how to obtain the matrix space of a matrix:"
   ]
  },
  {
   "cell_type": "code",
   "execution_count": 3,
   "id": "c94b1475-8641-440c-84cf-bd0f2921c080",
   "metadata": {},
   "outputs": [
    {
     "data": {
      "text/plain": [
       "[1   2   3]\n",
       "[4   5   6]"
      ]
     },
     "execution_count": 3,
     "metadata": {},
     "output_type": "execute_result"
    }
   ],
   "source": [
    "M"
   ]
  },
  {
   "cell_type": "code",
   "execution_count": 4,
   "id": "8da18df6-f022-43af-9d0a-4301e20dc9cb",
   "metadata": {},
   "outputs": [
    {
     "data": {
      "text/plain": [
       "Rational field"
      ]
     },
     "execution_count": 4,
     "metadata": {},
     "output_type": "execute_result"
    }
   ],
   "source": [
    "base_ring(M)"
   ]
  },
  {
   "cell_type": "code",
   "execution_count": 5,
   "id": "72d94a9a-a942-4cb3-84b6-a4bbfc7aa3ef",
   "metadata": {},
   "outputs": [
    {
     "data": {
      "text/plain": [
       "Matrix space of 2 rows and 3 columns\n",
       "  over rational field"
      ]
     },
     "execution_count": 5,
     "metadata": {},
     "output_type": "execute_result"
    }
   ],
   "source": [
    "parent(M)"
   ]
  },
  {
   "cell_type": "markdown",
   "id": "1500384d-c8c4-4f5d-96d1-da20504d8bdf",
   "metadata": {},
   "source": [
    "As you can see, the matrix space records the base ring/coefficient ring, as well as the dimensions of the matrices it contains. The elements of a matrix space are called `MatElem` or `MatrixElem` -- you may see these names in documentation about *OSCAR* functions operating on matrices."
   ]
  },
  {
   "cell_type": "code",
   "execution_count": null,
   "id": "8dd87dbf-8cc6-4732-a1a9-91e62134fb49",
   "metadata": {},
   "outputs": [],
   "source": []
  }
 ],
 "metadata": {
  "kernelspec": {
   "display_name": "Julia 1.10.5",
   "language": "julia",
   "name": "julia-1.10"
  },
  "language_info": {
   "file_extension": ".jl",
   "mimetype": "application/julia",
   "name": "julia",
   "version": "1.10.5"
  }
 },
 "nbformat": 4,
 "nbformat_minor": 5
}
