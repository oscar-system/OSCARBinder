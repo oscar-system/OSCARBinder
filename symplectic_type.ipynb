{
 "cells": [
  {
   "cell_type": "markdown",
   "metadata": {},
   "source": [
    "# A question of Pham Huu Tiep about a group of symplectic type\n",
    "\n",
    "* Author: Thomas Breuer\n",
    "* Version: OSCAR version 1.5\n",
    "* Last modified: September 21, 2025\n",
    "\n",
    "Consider the central product E of the cyclic group of order four and the extraspecial group $2^{1+6}_+$, such that $|E| = 2^8$, and let $\\Phi$ be one of the two (complex conjugate) faithful irreducible complex representations of degree $8$ of $E$.  The outer automorphism group $A$ of $E$ has the structure $C_2 \\times Sp(6, 2)$.\n",
    "\n",
    "From theory, we know that the representation $\\Phi$ extends to a representation of an extension $X = E.B$ of $E$ by the index two subgroup $B$ of $A$.  Moreover, we know that this representation of $X$ can be written over the field $K = Q(\\exp(2\\pi i/4))$, that is, the normalizer of $\\Phi(E)$ in $GL(8, K)$ contains a copy of $X$.\n",
    "\n",
    "Our task is to show that in this representation, the normalizer in $X$ of a Sylow $7$-subgroup of $X$ contains elements of order $24$ with eigenvalues $\\pm z_8$ (each with multiplicity $2$), $\\pm z_{24}^{19}$, and $z_{24}^{11}$, where $z_n = \\exp(2\\pi i/n)$.  We use the computer algebra system [OSCAR](https://oscar.computeralgebra.de)."
   ]
  },
  {
   "cell_type": "code",
   "execution_count": 1,
   "metadata": {},
   "outputs": [
    {
     "name": "stdout",
     "output_type": "stream",
     "text": [
      "  ___   ___   ___    _    ____\n",
      " / _ \\ / __\\ / __\\  / \\  |  _ \\  | Combining and extending ANTIC, GAP,\n",
      "| |_| |\\__ \\| |__  / ^ \\ |  ´ /  | Polymake and Singular\n",
      " \\___/ \\___/ \\___//_/ \\_\\|_|\\_\\  | Type \"?Oscar\" for more information\n",
      "\u001b[33mo--------o-----o-----o--------o\u001b[39m  | Documentation: https://docs.oscar-system.org\n",
      "  S Y M B O L I C   T O O L S    | 1.6.0-DEV\n"
     ]
    }
   ],
   "source": [
    "using Oscar"
   ]
  },
  {
   "cell_type": "markdown",
   "metadata": {},
   "source": [
    "We start with the direct product of the cyclic group of order four and $2^{1+6}_{+}$, construct its absolutely irreducible representations, and pick one such representation $\\varphi$ of degree $8$ that has kernel of order two. (Note that there are exactly two such representations, which are mutually complex conjugate.) We continue with the matrix group that is the image of $\\varphi$, which we identify with $\\Phi(E)$."
   ]
  },
  {
   "cell_type": "code",
   "execution_count": 2,
   "metadata": {},
   "outputs": [
    {
     "data": {
      "text/plain": [
       "512"
      ]
     },
     "execution_count": 2,
     "metadata": {},
     "output_type": "execute_result"
    }
   ],
   "source": [
    "g1 = cyclic_group(4);\n",
    "g2 = extraspecial_group(2, 3, :+);\n",
    "dp = direct_product(g1, g2);\n",
    "order(dp)"
   ]
  },
  {
   "cell_type": "code",
   "execution_count": 3,
   "metadata": {},
   "outputs": [
    {
     "data": {
      "text/plain": [
       "2"
      ]
     },
     "execution_count": 3,
     "metadata": {},
     "output_type": "execute_result"
    }
   ],
   "source": [
    "irreps = irreducible_modules(CyclotomicField, dp);\n",
    "dim8 = filter(x -> dim(x) == 8, irreps);\n",
    "grps = map(m -> matrix_group(map(y -> matrix(y), action(m))), dim8);\n",
    "filter!(x -> order(x) == 256, grps);\n",
    "length(grps)"
   ]
  },
  {
   "cell_type": "code",
   "execution_count": 4,
   "metadata": {},
   "outputs": [
    {
     "data": {
      "text/plain": [
       "8*$(4)"
      ]
     },
     "execution_count": 4,
     "metadata": {},
     "output_type": "execute_result"
    }
   ],
   "source": [
    "E = grps[1];\n",
    "C = center(E)[1];\n",
    "trace(cyclic_generator(C))"
   ]
  },
  {
   "cell_type": "markdown",
   "metadata": {},
   "source": [
    "By construction, the matrices are monomial and are written over the fourth cyclotomic field. The center of $E$ is cyclic of order four."
   ]
  },
  {
   "cell_type": "code",
   "execution_count": 5,
   "metadata": {},
   "outputs": [
    {
     "data": {
      "text/plain": [
       "Number field with defining polynomial _$^2 + 1\n",
       "  over rational field"
      ]
     },
     "execution_count": 5,
     "metadata": {},
     "output_type": "execute_result"
    }
   ],
   "source": [
    "F = base_ring(E)"
   ]
  },
  {
   "cell_type": "markdown",
   "metadata": {},
   "source": [
    "Next we compute the automorphism group $A$ of $E$, and its derived subgroup $B \\cong 2^6.Sp(6, 2) \\cong 2^6.O(7,2)$."
   ]
  },
  {
   "cell_type": "code",
   "execution_count": 6,
   "metadata": {},
   "outputs": [
    {
     "data": {
      "text/plain": [
       "\"(C2 x C2 x C2 x C2 x C2 x C2) . O(7,2)\""
      ]
     },
     "execution_count": 6,
     "metadata": {},
     "output_type": "execute_result"
    }
   ],
   "source": [
    "aut = automorphism_group(E);\n",
    "der = derived_subgroup(aut)[1];\n",
    "describe(der)"
   ]
  },
  {
   "cell_type": "markdown",
   "metadata": {},
   "source": [
    "For each generator $\\alpha$ of $B$, we want to compute a matrix $M_\\alpha$ with the property that $g^\\alpha = M_\\alpha^{-1} g M_\\alpha$ holds for all generators $g$ of $E$.  This yields a linear equation system whose solution determines $M_\\alpha$ up to scalar multiples.  The following function determines the solution of the equation system, interprets it as a matrix, and then returns a scalar multiple with determinant one."
   ]
  },
  {
   "cell_type": "code",
   "execution_count": 7,
   "metadata": {},
   "outputs": [],
   "source": [
    "function induced_matrix(alpha, E)\n",
    "  GE = natural_gmodule(E);\n",
    "  M = GE.M\n",
    "  GF = gmodule(E, [hom(M, M, matrix(alpha(g))) for g in gens(E)])\n",
    "  h = Oscar.GModuleFromGap.hom_base(GF, GE)\n",
    "  @assert length(h) == 1\n",
    "  d = det(h[1])\n",
    "  r = root(d, dim(M))\n",
    "  return h[1] / r\n",
    "end;"
   ]
  },
  {
   "cell_type": "markdown",
   "metadata": {},
   "source": [
    "Now we create the group $X$."
   ]
  },
  {
   "cell_type": "code",
   "execution_count": 8,
   "metadata": {},
   "outputs": [
    {
     "data": {
      "text/plain": [
       "true"
      ]
     },
     "execution_count": 8,
     "metadata": {},
     "output_type": "execute_result"
    }
   ],
   "source": [
    "autmats = map(alpha -> induced_matrix(alpha, E), gens(der));\n",
    "GL8F = general_linear_group(8, F);\n",
    "Xgens = vcat(gens(E), [GL8F(x) for x in autmats]);\n",
    "X = matrix_group(F, 8, Xgens);\n",
    "order(X) == 2^8 * order(symplectic_group(6, 2))"
   ]
  },
  {
   "cell_type": "markdown",
   "metadata": {},
   "source": [
    "Finally, we find the requested group element.  The Sylow $7$-normalizer in $X$ has a unique class of subgroups of order $24$, we pick one element and compute its eigenvalues."
   ]
  },
  {
   "cell_type": "code",
   "execution_count": 9,
   "metadata": {},
   "outputs": [
    {
     "data": {
      "text/plain": [
       "true"
      ]
     },
     "execution_count": 9,
     "metadata": {},
     "output_type": "execute_result"
    }
   ],
   "source": [
    "syl7 = sylow_subgroup(X, 7)[1];\n",
    "n = normalizer(X, syl7)[1];\n",
    "F = quo(n, syl7)[1];\n",
    "is_cyclic(F)"
   ]
  },
  {
   "cell_type": "code",
   "execution_count": 10,
   "metadata": {},
   "outputs": [
    {
     "data": {
      "text/plain": [
       "24"
      ]
     },
     "execution_count": 10,
     "metadata": {},
     "output_type": "execute_result"
    }
   ],
   "source": [
    "order(F)"
   ]
  },
  {
   "cell_type": "code",
   "execution_count": 11,
   "metadata": {},
   "outputs": [
    {
     "data": {
      "text/plain": [
       "(x - z_24^7) * (x + z_24^3)^2 * (x + z_24^7 - z_24^3) * (x + z_24^7) * (x - z_24^3)^2 * (x - z_24^7 + z_24^3)"
      ]
     },
     "execution_count": 11,
     "metadata": {},
     "output_type": "execute_result"
    }
   ],
   "source": [
    "while true\n",
    "  global y = rand(n)\n",
    "  order(y) == 24 && break\n",
    "end\n",
    "mat = matrix(y);\n",
    "mats = [mat^i for i in coprime_residues(24)];\n",
    "pols = map(characteristic_polynomial, mats);\n",
    "F24, z24 = cyclotomic_field(24);\n",
    "i = findfirst( x -> is_zero(x(z24^11)), pols );\n",
    "pol24 = change_base_ring(F24, pols[i]);\n",
    "factor(pol24)"
   ]
  },
  {
   "cell_type": "markdown",
   "metadata": {},
   "source": [
    "The eigenvalues are $\\pm z_8 = \\pm z_{24}^3$ (each with multiplicity $2$), $\\pm z_{24}^7 = \\pm z_{24}^{19}$, and $\\pm (z_{24}^7 - z_{24}^3) = \\pm z_8 z_3 = \\pm z_{24}^{11}$, as requested."
   ]
  }
 ],
 "metadata": {
  "kernelspec": {
   "display_name": "Julia 1.10.9",
   "language": "julia",
   "name": "julia-1.10"
  },
  "language_info": {
   "file_extension": ".jl",
   "mimetype": "application/julia",
   "name": "julia",
   "version": "1.10.9"
  }
 },
 "nbformat": 4,
 "nbformat_minor": 4
}
