{
 "cells": [
  {
   "cell_type": "markdown",
   "metadata": {},
   "source": [
    "# Irreducible representations of a finite abelian group over a finite field\n",
    "\n",
    "* Author: Thomas Breuer\n",
    "* Version: OSCAR version 1.5\n",
    "* Last modified: October 13, 2025\n",
    "\n",
    "Let $G$ be a finite abelian group, and let $F$ be a finite field.\n",
    "A forthcoming paper describes how one can compute the degrees of the $F$-irreducible representations of $G$ and their multiplicities, and sketches how to compute the $F$-irreducible representations of $G$\n",
    "\n",
    "In the following, we show [OSCAR](https://oscar.computeralgebra.de) code for addressing these two tasks."
   ]
  },
  {
   "cell_type": "code",
   "execution_count": 1,
   "metadata": {},
   "outputs": [
    {
     "name": "stdout",
     "output_type": "stream",
     "text": [
      "  ___   ___   ___    _    ____\n",
      " / _ \\ / __\\ / __\\  / \\  |  _ \\  | Combining and extending ANTIC, GAP,\n",
      "| |_| |\\__ \\| |__  / ^ \\ |  ´ /  | Polymake and Singular\n",
      " \\___/ \\___/ \\___//_/ \\_\\|_|\\_\\  | Type \"?Oscar\" for more information\n",
      "\u001b[33mo--------o-----o-----o--------o\u001b[39m  | Documentation: https://docs.oscar-system.org\n",
      "  S Y M B O L I C   T O O L S    | 1.5.0\n"
     ]
    }
   ],
   "source": [
    "using Oscar"
   ]
  },
  {
   "cell_type": "markdown",
   "metadata": {},
   "source": [
    "We start with the function that takes the vector of abelian invariants `invariants` of $G$ and the order `q` of $F$,\n",
    "and computes the multiset of $F$-irreducible degrees of $G$.\n",
    "\n",
    "Following the paper, we first observe that each $F$-irreducible degree $n$ of $G$ has the form $n = ord(q \\bmod d)$, where $d$ is a divisor of the exponent $e$ of $G$.\n",
    "Next we see that the number of $F$-irreducibles of degree $n$ is equal to $\\frac{1}{n} \\sum_{d \\in D_n} |I_d(G)|$, where $D_n$ is the set of those divisors $d$ of $e$ such that $ord(q \\bmod d) = n$ holds, and $I_d(G)$ is the set of those absolutely irreducible representations of $G$ in characteristic dividing `q` whose image has order $d$.\n",
    "\n",
    "The key step is thus the computation of the cardinalities $|I_d(G)|$, which can be reduced to the case that $d$ is a prime power."
   ]
  },
  {
   "cell_type": "code",
   "execution_count": 2,
   "metadata": {},
   "outputs": [],
   "source": [
    "function irreducible_degrees(invariants::Vector{<:Oscar.IntegerUnion}, q::Oscar.IntegerUnion)\n",
    "  # `q = l^f` for a prime `l`.\n",
    "  flag, f, l = is_prime_power_with_data(ZZ(q))\n",
    "  @req flag \"q must be a prime power\"\n",
    "\n",
    "  # Switch to prime power invariants, remove the `l`-parts.\n",
    "  ab_inv = abelian_invariants(ZZRingElem, invariants)\n",
    "  ab_inv = [remove(x, l)[2] for x in ab_inv]\n",
    "\n",
    "  # Distribute `ab_inv` to the prime divisors `p` of the exponent `e`.\n",
    "  e = lcm(ab_inv)\n",
    "  D = Dict((p, ZZRingElem[]) for p in prime_divisors(e))\n",
    "  for a in ab_inv\n",
    "    flag, ff, p = is_prime_power_with_data(a)\n",
    "    flag && push!(D[p], ff)\n",
    "  end\n",
    "\n",
    "  # Precompute the cardinalities $|I_{p^i}(G_p)|$.\n",
    "  I = Dict{ZZRingElem, ZZRingElem}()\n",
    "  for p in prime_divisors(e)\n",
    "    as = D[p]\n",
    "    valp = p^length(as)\n",
    "    I[p] = (p == 2 ? valp : (valp - 1))\n",
    "    for i in 2:maximum(as)\n",
    "      valnext = prod([p^min(x, i) for x in as]; init = 1)\n",
    "      I[p^i] = valnext - valp\n",
    "      valp = valnext\n",
    "    end\n",
    "  end\n",
    "\n",
    "  # Compute the degrees `n` and their multiplicities `m`.\n",
    "  res = MSet{ZZRingElem}()\n",
    "  for d in (isodd(e) ? divisors(e) : 2 * divisors(div(e, 2)))\n",
    "    k = (d == 1 ? 1 : modord(l, d))\n",
    "    g = gcd(f, k)\n",
    "    num = prod([I[x[1]^x[2]] for x in factor(d)]; init = 1)\n",
    "    n = div(k, g) \n",
    "    m = Int(div(g*num, k))\n",
    "    push!(res, n, m)\n",
    "  end\n",
    "\n",
    "  return res\n",
    "end;"
   ]
  },
  {
   "cell_type": "markdown",
   "metadata": {},
   "source": [
    "We compute some examples."
   ]
  },
  {
   "cell_type": "code",
   "execution_count": 3,
   "metadata": {},
   "outputs": [
    {
     "data": {
      "text/plain": [
       "MSet{ZZRingElem} with 635 elements:\n",
       "  6  : 351\n",
       "  2  : 40\n",
       "  18 : 243\n",
       "  1"
      ]
     },
     "execution_count": 3,
     "metadata": {},
     "output_type": "execute_result"
    }
   ],
   "source": [
    "irreducible_degrees([3, 9, 9, 27], 2)"
   ]
  },
  {
   "cell_type": "code",
   "execution_count": 4,
   "metadata": {},
   "outputs": [
    {
     "data": {
      "text/plain": [
       "MSet{ZZRingElem} with 1823 elements:\n",
       "  6 : 729\n",
       "  2 : 1093\n",
       "  1"
      ]
     },
     "execution_count": 4,
     "metadata": {},
     "output_type": "execute_result"
    }
   ],
   "source": [
    "irreducible_degrees([3, 9, 9, 27], 8)"
   ]
  },
  {
   "cell_type": "code",
   "execution_count": 5,
   "metadata": {},
   "outputs": [
    {
     "data": {
      "text/plain": [
       "MSet{ZZRingElem} with 3645 elements:\n",
       "  3 : 1458\n",
       "  1 : 2187"
      ]
     },
     "execution_count": 5,
     "metadata": {},
     "output_type": "execute_result"
    }
   ],
   "source": [
    "irreducible_degrees([3, 9, 9, 27], 64)"
   ]
  },
  {
   "cell_type": "code",
   "execution_count": 6,
   "metadata": {},
   "outputs": [
    {
     "data": {
      "text/plain": [
       "MSet{ZZRingElem} with 8 elements:\n",
       "  4  : 3\n",
       "  6\n",
       "  2\n",
       "  12 : 2\n",
       "  1"
      ]
     },
     "execution_count": 6,
     "metadata": {},
     "output_type": "execute_result"
    }
   ],
   "source": [
    "irreducible_degrees([5, 9], 2^1)"
   ]
  },
  {
   "cell_type": "code",
   "execution_count": 7,
   "metadata": {},
   "outputs": [
    {
     "data": {
      "text/plain": [
       "MSet{ZZRingElem} with 15 elements:\n",
       "  6 : 4\n",
       "  2 : 6\n",
       "  3 : 2\n",
       "  1 : 3"
      ]
     },
     "execution_count": 7,
     "metadata": {},
     "output_type": "execute_result"
    }
   ],
   "source": [
    "irreducible_degrees([5, 9], 2^2)"
   ]
  },
  {
   "cell_type": "code",
   "execution_count": 8,
   "metadata": {},
   "outputs": [
    {
     "data": {
      "text/plain": [
       "MSet{ZZRingElem} with 14 elements:\n",
       "  4 : 9\n",
       "  2 : 4\n",
       "  1"
      ]
     },
     "execution_count": 8,
     "metadata": {},
     "output_type": "execute_result"
    }
   ],
   "source": [
    "irreducible_degrees([5, 9], 2^3)"
   ]
  },
  {
   "cell_type": "code",
   "execution_count": 9,
   "metadata": {},
   "outputs": [
    {
     "data": {
      "text/plain": [
       "MSet{ZZRingElem} with 25 elements:\n",
       "  3 : 10\n",
       "  1 : 15"
      ]
     },
     "execution_count": 9,
     "metadata": {},
     "output_type": "execute_result"
    }
   ],
   "source": [
    "irreducible_degrees([5, 9], 2^4)"
   ]
  },
  {
   "cell_type": "code",
   "execution_count": 10,
   "metadata": {},
   "outputs": [
    {
     "data": {
      "text/plain": [
       "MSet{ZZRingElem} with 27 elements:\n",
       "  2 : 18\n",
       "  1 : 9"
      ]
     },
     "execution_count": 10,
     "metadata": {},
     "output_type": "execute_result"
    }
   ],
   "source": [
    "irreducible_degrees([5, 9], 2^6)"
   ]
  },
  {
   "cell_type": "code",
   "execution_count": 11,
   "metadata": {},
   "outputs": [
    {
     "data": {
      "text/plain": [
       "MSet{ZZRingElem} with 45 elements:\n",
       "  1 : 45"
      ]
     },
     "execution_count": 11,
     "metadata": {},
     "output_type": "execute_result"
    }
   ],
   "source": [
    "irreducible_degrees([5, 9], 2^12)"
   ]
  },
  {
   "cell_type": "markdown",
   "metadata": {},
   "source": [
    "Next we show a function that computes the $F$-irreducible representations of the group $G$.\n",
    "The idea is that, for $F$ of characteristic $p$, the absolutely irreducible representations of the Hall $p'$-subgroup of $G$ are described by the Oscar function `dual`, and that each $F$-irreducible representation arises as a Galois sum of absolutely irreducible representations.\n",
    "\n",
    "Since the image of each irreducible representation of an abelian group is cyclic, it suffices to write down a matrix $M$ over $F$ that generates the image, and to use the available implementation of the dual group to compute from $M$ the images of the generators of $G$."
   ]
  },
  {
   "cell_type": "code",
   "execution_count": 12,
   "metadata": {},
   "outputs": [],
   "source": [
    "function irreducible_representations_abelian(G::Oscar.GAPGroup, F::FinField)\n",
    "  @assert is_abelian(G)\n",
    "  q = order(F)\n",
    "  p = characteristic(F)\n",
    "  k, _ = remove(q, p)  # `F` has order `p^k`\n",
    "\n",
    "  if mod(order(G), p) != 0\n",
    "    GG = G\n",
    "  else\n",
    "    # Replace `G` by its Hall p'-subgroup,\n",
    "    # such that the generators correspond to those of `G`.\n",
    "    # (In the end, we will construct modules,\n",
    "    # there is no need to create an epimorphism to the largest p'-factor.)\n",
    "    GG = sub(G, [g^ppio(order(g), p)[1] for g in gens(G)])[1]\n",
    "  end\n",
    "\n",
    "  mA = isomorphism(Hecke.FinGenAbGroup, GG) # GG -> A\n",
    "  A = codomain(mA)\n",
    "  R, mR = dual(A)\n",
    "\n",
    "  res = GModule{typeof(G), AbstractAlgebra.Generic.FreeModule{elem_type(F)}}[]\n",
    "  all_elem = []  # already used\n",
    "  rootinfo = Dict{ZZRingElem, Tuple}()\n",
    "\n",
    "  for r in R\n",
    "    r in all_elem && continue\n",
    "    o = order(r)  # `r` needs a prim. `o`-th root in the finite field\n",
    "    orblen = 1\n",
    "    rr = q * r\n",
    "    while rr != r\n",
    "      push!(all_elem, rr)\n",
    "      orblen = orblen + 1\n",
    "      rr = q * rr\n",
    "    end\n",
    "\n",
    "    # `orblen` is the length of the Galois orbit over `F`.\n",
    "    # Compute `L, K, z` where\n",
    "    # `L` is the smallest field in char. `p` that contains a prim. `o`-th root,\n",
    "    # `K` is the intersection of `L` and `F`,\n",
    "    # and `z` is an element of order `o` in `L`.\n",
    "    # These values depend only on `o`.\n",
    "    # (The irred. `F`-repres. of `G` live already over `K`,\n",
    "    # we work over `K` and later write the matrices over `F`.)\n",
    "    L, K, z = get(rootinfo, o) do\n",
    "      m = modord(p, o) # Note: `orblen == modord(q, o)` divides `m`\n",
    "      L = GF(p, m)\n",
    "      return L,\n",
    "             GF(p, gcd(k, m)),\n",
    "             Oscar.DiscLog.generator(L)^divexact(p^m-1, o)\n",
    "    end\n",
    "\n",
    "    mp = embed(K, L)\n",
    "    mat = companion_matrix(minpoly(z, mp))  # matrix over K\n",
    "    emb = embed(K, F)  # we want to write the matrices over F\n",
    "    f = mR(r)\n",
    "    M = free_module(F, orblen)\n",
    "\n",
    "    function conv(r)\n",
    "      e = r.elt::QQFieldElem\n",
    "      return map_entries(emb, mat^Int(divexact(o, denominator(e))*numerator(e)))\n",
    "    end\n",
    "\n",
    "    push!(res, gmodule(M, G, [hom(M, M, conv(f(mA(g)))) for g = gens(GG)]))\n",
    "  end\n",
    "  return res\n",
    "end;"
   ]
  },
  {
   "cell_type": "markdown",
   "metadata": {},
   "source": [
    "Again, we show some examples."
   ]
  },
  {
   "cell_type": "code",
   "execution_count": 13,
   "metadata": {},
   "outputs": [
    {
     "data": {
      "text/plain": [
       "MSet{Int64} with 14 elements:\n",
       "  4 : 9\n",
       "  2 : 4\n",
       "  1"
      ]
     },
     "execution_count": 13,
     "metadata": {},
     "output_type": "execute_result"
    }
   ],
   "source": [
    "G = abelian_group(PcGroup, [3, 3, 5]);\n",
    "reps = irreducible_representations_abelian(G, GF(2));\n",
    "multiset(map(dim, reps))"
   ]
  },
  {
   "cell_type": "code",
   "execution_count": 14,
   "metadata": {},
   "outputs": [
    {
     "data": {
      "text/plain": [
       "MSet{Int64} with 27 elements:\n",
       "  2 : 18\n",
       "  1 : 9"
      ]
     },
     "execution_count": 14,
     "metadata": {},
     "output_type": "execute_result"
    }
   ],
   "source": [
    "reps = irreducible_representations_abelian(G, GF(2, 2));\n",
    "multiset(map(dim, reps))"
   ]
  }
 ],
 "metadata": {
  "kernelspec": {
   "display_name": "Julia 1.10.9",
   "language": "julia",
   "name": "julia-1.10"
  },
  "language_info": {
   "file_extension": ".jl",
   "mimetype": "application/julia",
   "name": "julia",
   "version": "1.10.9"
  }
 },
 "nbformat": 4,
 "nbformat_minor": 4
}
